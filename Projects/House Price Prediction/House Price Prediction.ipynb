{
 "cells": [
  {
   "cell_type": "markdown",
   "metadata": {},
   "source": [
    "<div id=\"top\">\n",
    "<a href=\"https://www.kaggle.com/c/house-prices-advanced-regression-techniques\"><h1>House Prices Prediction</h1></a>\n",
    "<br>\n",
    "Ask a home buyer to describe their dream house, and they probably won't begin with the height of the basement ceiling or the proximity to an east-west railroad. But this playground competition's dataset proves that much more influences price negotiations than the number of bedrooms or a white-picket fence.\n",
    "\n",
    "<table><tr>\n",
    "<td> <img src=\"images/House.jpe\" alt=\"House For Sale\" style=\"width: 400px;height:200px\"/> </td>\n",
    "<td> <img src=\"images/House3.png\" alt=\"House Price\" style=\"width: 400px;height:200px\"/> </td>\n",
    "</tr></table>\n",
    "\n",
    "<h3>Project Objective:</h3>\n",
    "<br>\n",
    "This Project is to understand how Advanced ML techniques could be used to predict the house prices based on a lot of features.Here we will be using mostly ensemble methods.\n",
    "\n",
    "<h3>Technologies and Environment Used:</h3>\n",
    "<img src=\"images/Technologies4.jpg\" alt=\"Libraries used\" style=\"width: 400px;height:160px\"/> \n",
    "\n",
    "\n",
    "<h3><u><i>Project Pipeline</h3>\n",
    "<ol><h3>\n",
    "<li>Importing Data and Libraries</li>\n",
    "<li>Exploratary Data Analysis</li>\n",
    "<li>Feature Engineering</li>\n",
    "<li>Feature Extraction</li>\n",
    "<li>Building Model & Model Tuning</li>\n",
    "<li>Stacking and Blending</li>\n",
    "<li>Learnings & Conclusion</li>\n",
    "<li>Credits & References</li>\n",
    "</h3></ol>\n",
    "<h3>Want to learn more: <a href=\"https://github.com/vishalgarg1994/Data-Science-Portfolio\"> https://github.com/vishalgarg1994/Data-Science-Portfolio</a></h3>\n",
    "</div>"
   ]
  },
  {
   "cell_type": "markdown",
   "metadata": {},
   "source": [
    "<hr></hr>\n",
    "<h3>1. Importing Data and Libraries</h3>"
   ]
  },
  {
   "cell_type": "code",
   "execution_count": 1,
   "metadata": {
    "ExecuteTime": {
     "end_time": "2020-07-21T14:19:31.360800Z",
     "start_time": "2020-07-21T14:18:30.530189Z"
    }
   },
   "outputs": [],
   "source": [
    "import warnings\n",
    "warnings.filterwarnings(\"ignore\")\n",
    "import pandas as pd\n",
    "import numpy as np\n",
    "import seaborn as sns\n",
    "import matplotlib.pyplot as plt\n",
    "import seaborn as sns\n",
    "import matplotlib.pyplot as plt\n",
    "from sklearn.neighbors import KNeighborsRegressor\n",
    "from sklearn.model_selection import train_test_split,GridSearchCV,KFold\n",
    "from sklearn.ensemble import RandomForestRegressor,AdaBoostRegressor,GradientBoostingRegressor,StackingRegressor\n",
    "from sklearn.svm import SVR\n",
    "from sklearn.linear_model import LinearRegression,Ridge,Lasso\n",
    "from sklearn.tree import DecisionTreeRegressor\n",
    "from sklearn.decomposition import PCA\n",
    "import statsmodels.api as sm\n",
    "from sklearn.preprocessing import StandardScaler\n",
    "from sklearn import metrics\n",
    "from scipy import stats"
   ]
  },
  {
   "cell_type": "code",
   "execution_count": 2,
   "metadata": {
    "ExecuteTime": {
     "end_time": "2020-07-21T14:19:35.280891Z",
     "start_time": "2020-07-21T14:19:34.760876Z"
    }
   },
   "outputs": [],
   "source": [
    "# The data is already split into train and test\n",
    "train = pd.read_csv('data/train.csv')\n",
    "test = pd.read_csv('data/test.csv')"
   ]
  },
  {
   "cell_type": "markdown",
   "metadata": {},
   "source": [
    "<h3>2. Exploratory Data Analysis</h3>"
   ]
  },
  {
   "cell_type": "code",
   "execution_count": 3,
   "metadata": {
    "ExecuteTime": {
     "end_time": "2020-07-21T14:19:36.793032Z",
     "start_time": "2020-07-21T14:19:36.769016Z"
    }
   },
   "outputs": [
    {
     "name": "stdout",
     "output_type": "stream",
     "text": [
      "(1460, 81)\n",
      "(1459, 80)\n"
     ]
    }
   ],
   "source": [
    "print(train.shape)\n",
    "print(test.shape)"
   ]
  },
  {
   "cell_type": "code",
   "execution_count": 4,
   "metadata": {
    "ExecuteTime": {
     "end_time": "2020-07-20T13:28:53.172807Z",
     "start_time": "2020-07-20T13:28:52.789512Z"
    }
   },
   "outputs": [
    {
     "data": {
      "text/html": [
       "<div>\n",
       "<style scoped>\n",
       "    .dataframe tbody tr th:only-of-type {\n",
       "        vertical-align: middle;\n",
       "    }\n",
       "\n",
       "    .dataframe tbody tr th {\n",
       "        vertical-align: top;\n",
       "    }\n",
       "\n",
       "    .dataframe thead th {\n",
       "        text-align: right;\n",
       "    }\n",
       "</style>\n",
       "<table border=\"1\" class=\"dataframe\">\n",
       "  <thead>\n",
       "    <tr style=\"text-align: right;\">\n",
       "      <th></th>\n",
       "      <th>Id</th>\n",
       "      <th>MSSubClass</th>\n",
       "      <th>MSZoning</th>\n",
       "      <th>LotFrontage</th>\n",
       "      <th>LotArea</th>\n",
       "      <th>Street</th>\n",
       "      <th>Alley</th>\n",
       "      <th>LotShape</th>\n",
       "      <th>LandContour</th>\n",
       "      <th>Utilities</th>\n",
       "      <th>...</th>\n",
       "      <th>PoolArea</th>\n",
       "      <th>PoolQC</th>\n",
       "      <th>Fence</th>\n",
       "      <th>MiscFeature</th>\n",
       "      <th>MiscVal</th>\n",
       "      <th>MoSold</th>\n",
       "      <th>YrSold</th>\n",
       "      <th>SaleType</th>\n",
       "      <th>SaleCondition</th>\n",
       "      <th>SalePrice</th>\n",
       "    </tr>\n",
       "  </thead>\n",
       "  <tbody>\n",
       "    <tr>\n",
       "      <th>0</th>\n",
       "      <td>1</td>\n",
       "      <td>60</td>\n",
       "      <td>RL</td>\n",
       "      <td>65.0</td>\n",
       "      <td>8450</td>\n",
       "      <td>Pave</td>\n",
       "      <td>NaN</td>\n",
       "      <td>Reg</td>\n",
       "      <td>Lvl</td>\n",
       "      <td>AllPub</td>\n",
       "      <td>...</td>\n",
       "      <td>0</td>\n",
       "      <td>NaN</td>\n",
       "      <td>NaN</td>\n",
       "      <td>NaN</td>\n",
       "      <td>0</td>\n",
       "      <td>2</td>\n",
       "      <td>2008</td>\n",
       "      <td>WD</td>\n",
       "      <td>Normal</td>\n",
       "      <td>208500</td>\n",
       "    </tr>\n",
       "    <tr>\n",
       "      <th>1</th>\n",
       "      <td>2</td>\n",
       "      <td>20</td>\n",
       "      <td>RL</td>\n",
       "      <td>80.0</td>\n",
       "      <td>9600</td>\n",
       "      <td>Pave</td>\n",
       "      <td>NaN</td>\n",
       "      <td>Reg</td>\n",
       "      <td>Lvl</td>\n",
       "      <td>AllPub</td>\n",
       "      <td>...</td>\n",
       "      <td>0</td>\n",
       "      <td>NaN</td>\n",
       "      <td>NaN</td>\n",
       "      <td>NaN</td>\n",
       "      <td>0</td>\n",
       "      <td>5</td>\n",
       "      <td>2007</td>\n",
       "      <td>WD</td>\n",
       "      <td>Normal</td>\n",
       "      <td>181500</td>\n",
       "    </tr>\n",
       "    <tr>\n",
       "      <th>2</th>\n",
       "      <td>3</td>\n",
       "      <td>60</td>\n",
       "      <td>RL</td>\n",
       "      <td>68.0</td>\n",
       "      <td>11250</td>\n",
       "      <td>Pave</td>\n",
       "      <td>NaN</td>\n",
       "      <td>IR1</td>\n",
       "      <td>Lvl</td>\n",
       "      <td>AllPub</td>\n",
       "      <td>...</td>\n",
       "      <td>0</td>\n",
       "      <td>NaN</td>\n",
       "      <td>NaN</td>\n",
       "      <td>NaN</td>\n",
       "      <td>0</td>\n",
       "      <td>9</td>\n",
       "      <td>2008</td>\n",
       "      <td>WD</td>\n",
       "      <td>Normal</td>\n",
       "      <td>223500</td>\n",
       "    </tr>\n",
       "    <tr>\n",
       "      <th>3</th>\n",
       "      <td>4</td>\n",
       "      <td>70</td>\n",
       "      <td>RL</td>\n",
       "      <td>60.0</td>\n",
       "      <td>9550</td>\n",
       "      <td>Pave</td>\n",
       "      <td>NaN</td>\n",
       "      <td>IR1</td>\n",
       "      <td>Lvl</td>\n",
       "      <td>AllPub</td>\n",
       "      <td>...</td>\n",
       "      <td>0</td>\n",
       "      <td>NaN</td>\n",
       "      <td>NaN</td>\n",
       "      <td>NaN</td>\n",
       "      <td>0</td>\n",
       "      <td>2</td>\n",
       "      <td>2006</td>\n",
       "      <td>WD</td>\n",
       "      <td>Abnorml</td>\n",
       "      <td>140000</td>\n",
       "    </tr>\n",
       "    <tr>\n",
       "      <th>4</th>\n",
       "      <td>5</td>\n",
       "      <td>60</td>\n",
       "      <td>RL</td>\n",
       "      <td>84.0</td>\n",
       "      <td>14260</td>\n",
       "      <td>Pave</td>\n",
       "      <td>NaN</td>\n",
       "      <td>IR1</td>\n",
       "      <td>Lvl</td>\n",
       "      <td>AllPub</td>\n",
       "      <td>...</td>\n",
       "      <td>0</td>\n",
       "      <td>NaN</td>\n",
       "      <td>NaN</td>\n",
       "      <td>NaN</td>\n",
       "      <td>0</td>\n",
       "      <td>12</td>\n",
       "      <td>2008</td>\n",
       "      <td>WD</td>\n",
       "      <td>Normal</td>\n",
       "      <td>250000</td>\n",
       "    </tr>\n",
       "  </tbody>\n",
       "</table>\n",
       "<p>5 rows × 81 columns</p>\n",
       "</div>"
      ],
      "text/plain": [
       "   Id  MSSubClass MSZoning  LotFrontage  LotArea Street Alley LotShape  \\\n",
       "0   1          60       RL         65.0     8450   Pave   NaN      Reg   \n",
       "1   2          20       RL         80.0     9600   Pave   NaN      Reg   \n",
       "2   3          60       RL         68.0    11250   Pave   NaN      IR1   \n",
       "3   4          70       RL         60.0     9550   Pave   NaN      IR1   \n",
       "4   5          60       RL         84.0    14260   Pave   NaN      IR1   \n",
       "\n",
       "  LandContour Utilities  ... PoolArea PoolQC Fence MiscFeature MiscVal MoSold  \\\n",
       "0         Lvl    AllPub  ...        0    NaN   NaN         NaN       0      2   \n",
       "1         Lvl    AllPub  ...        0    NaN   NaN         NaN       0      5   \n",
       "2         Lvl    AllPub  ...        0    NaN   NaN         NaN       0      9   \n",
       "3         Lvl    AllPub  ...        0    NaN   NaN         NaN       0      2   \n",
       "4         Lvl    AllPub  ...        0    NaN   NaN         NaN       0     12   \n",
       "\n",
       "  YrSold  SaleType  SaleCondition  SalePrice  \n",
       "0   2008        WD         Normal     208500  \n",
       "1   2007        WD         Normal     181500  \n",
       "2   2008        WD         Normal     223500  \n",
       "3   2006        WD        Abnorml     140000  \n",
       "4   2008        WD         Normal     250000  \n",
       "\n",
       "[5 rows x 81 columns]"
      ]
     },
     "execution_count": 4,
     "metadata": {},
     "output_type": "execute_result"
    }
   ],
   "source": [
    "train.head()"
   ]
  },
  {
   "cell_type": "markdown",
   "metadata": {},
   "source": [
    "<a href=\"https://www.kaggle.com/c/house-prices-advanced-regression-techniques/data\"><h3>Features Description</h3></a>"
   ]
  },
  {
   "cell_type": "markdown",
   "metadata": {},
   "source": [
    "<h4>Checking for null values </h4>"
   ]
  },
  {
   "cell_type": "code",
   "execution_count": 5,
   "metadata": {
    "ExecuteTime": {
     "end_time": "2020-07-20T13:29:32.036685Z",
     "start_time": "2020-07-20T13:29:31.969641Z"
    }
   },
   "outputs": [
    {
     "data": {
      "text/plain": [
       "Index(['LotFrontage', 'Alley', 'MasVnrType', 'MasVnrArea', 'BsmtQual',\n",
       "       'BsmtCond', 'BsmtExposure', 'BsmtFinType1', 'BsmtFinType2',\n",
       "       'Electrical', 'FireplaceQu', 'GarageType', 'GarageYrBlt',\n",
       "       'GarageFinish', 'GarageQual', 'GarageCond', 'PoolQC', 'Fence',\n",
       "       'MiscFeature'],\n",
       "      dtype='object')"
      ]
     },
     "execution_count": 5,
     "metadata": {},
     "output_type": "execute_result"
    }
   ],
   "source": [
    "# Columns having null values\n",
    "train.columns[train.isnull().any(axis=0)]"
   ]
  },
  {
   "cell_type": "code",
   "execution_count": 6,
   "metadata": {
    "ExecuteTime": {
     "end_time": "2020-07-20T13:30:06.373357Z",
     "start_time": "2020-07-20T13:30:05.938744Z"
    }
   },
   "outputs": [
    {
     "name": "stdout",
     "output_type": "stream",
     "text": [
      "Index(['Alley', 'PoolQC', 'Fence', 'MiscFeature'], dtype='object')\n",
      "Index(['Alley', 'PoolQC', 'Fence', 'MiscFeature'], dtype='object')\n"
     ]
    }
   ],
   "source": [
    "print(train.columns[round(100*train.isnull().sum()/len(train.index),2) > 70])\n",
    "print(test.columns[round(100*test.isnull().sum()/len(test.index),2) > 70])"
   ]
  },
  {
   "cell_type": "markdown",
   "metadata": {},
   "source": [
    "<h4>Above 4 columns can be easily dropped as more than 70% of values are Nulls so this doesn't give much info. Also we need to delete the id column as this doesn't create any value for the model.</h4>"
   ]
  },
  {
   "cell_type": "code",
   "execution_count": 8,
   "metadata": {
    "ExecuteTime": {
     "end_time": "2020-07-20T13:31:56.929328Z",
     "start_time": "2020-07-20T13:31:56.899309Z"
    }
   },
   "outputs": [
    {
     "data": {
      "text/plain": [
       "0"
      ]
     },
     "execution_count": 8,
     "metadata": {},
     "output_type": "execute_result"
    }
   ],
   "source": [
    "# No of rows having more than 50% nulls\n",
    "sum(round(100*train.isna().sum(axis=1)/train.shape[1],2) >30)"
   ]
  },
  {
   "cell_type": "markdown",
   "metadata": {},
   "source": [
    "<h4>There is no row having more than 30% Nulls so we won't be deleting any row at all</h4>\n",
    "<h4>Created the copies of train and test,if in case, we need </h4>"
   ]
  },
  {
   "cell_type": "code",
   "execution_count": 4,
   "metadata": {
    "ExecuteTime": {
     "end_time": "2020-07-21T14:19:50.128074Z",
     "start_time": "2020-07-21T14:19:50.104072Z"
    }
   },
   "outputs": [],
   "source": [
    "train_copy = train.copy()\n",
    "test_copy = test.copy()"
   ]
  },
  {
   "cell_type": "code",
   "execution_count": 12,
   "metadata": {
    "ExecuteTime": {
     "end_time": "2020-07-20T13:42:40.030238Z",
     "start_time": "2020-07-20T13:42:38.592269Z"
    }
   },
   "outputs": [
    {
     "data": {
      "text/plain": [
       "Text(0.5, 1.0, 'Count of null values')"
      ]
     },
     "execution_count": 12,
     "metadata": {},
     "output_type": "execute_result"
    },
    {
     "data": {
      "image/png": "[encoded data removed]",
      "text/plain": [
       "<Figure size 432x288 with 1 Axes>"
      ]
     },
     "metadata": {},
     "output_type": "display_data"
    }
   ],
   "source": [
    "sns.set_style('darkgrid')\n",
    "missing = train.isnull().sum()\n",
    "missing = missing[missing > 0]\n",
    "missing.sort_values(inplace=True)\n",
    "missing.plot.bar()\n",
    "plt.title(\"Count of null values\")"
   ]
  },
  {
   "cell_type": "markdown",
   "metadata": {},
   "source": [
    "<h3>3. Feature Engineering<h3>"
   ]
  },
  {
   "cell_type": "code",
   "execution_count": 5,
   "metadata": {
    "ExecuteTime": {
     "end_time": "2020-07-21T14:19:55.265711Z",
     "start_time": "2020-07-21T14:19:55.221679Z"
    }
   },
   "outputs": [],
   "source": [
    "# Taking out the Target Variable\n",
    "output_var = train.pop('SalePrice')"
   ]
  },
  {
   "cell_type": "code",
   "execution_count": 49,
   "metadata": {
    "ExecuteTime": {
     "end_time": "2020-07-20T14:01:06.238338Z",
     "start_time": "2020-07-20T14:01:05.054540Z"
    }
   },
   "outputs": [
    {
     "data": {
      "text/plain": [
       "Text(0.5, 1.0, 'Target variable Distribution')"
      ]
     },
     "execution_count": 49,
     "metadata": {},
     "output_type": "execute_result"
    },
    {
     "data": {
      "image/png": "[encoded data removed]",
      "text/plain": [
       "<Figure size 432x288 with 1 Axes>"
      ]
     },
     "metadata": {},
     "output_type": "display_data"
    }
   ],
   "source": [
    "sns.distplot(output_var)\n",
    "plt.title(\"Target variable Distribution\")"
   ]
  },
  {
   "cell_type": "markdown",
   "metadata": {
    "ExecuteTime": {
     "end_time": "2020-07-20T13:45:36.614179Z",
     "start_time": "2020-07-20T13:45:36.604178Z"
    }
   },
   "source": [
    "<h4>Dropping the irrelevant cols and cols having large null values</h4>"
   ]
  },
  {
   "cell_type": "code",
   "execution_count": 6,
   "metadata": {
    "ExecuteTime": {
     "end_time": "2020-07-21T14:20:08.063865Z",
     "start_time": "2020-07-21T14:20:08.031869Z"
    }
   },
   "outputs": [],
   "source": [
    "cols_to_drop = ['Alley', 'FireplaceQu', 'PoolQC', 'Fence', 'MiscFeature','Id']\n",
    "train.drop(cols_to_drop,inplace=True,axis=1)\n",
    "test.drop(cols_to_drop,inplace=True,axis=1)"
   ]
  },
  {
   "cell_type": "markdown",
   "metadata": {},
   "source": [
    "<h3> Handling Missing Values <h3>\n",
    "<h5>This Function will give all the column names where nulls are present either in train or test</h5>"
   ]
  },
  {
   "cell_type": "code",
   "execution_count": 7,
   "metadata": {
    "ExecuteTime": {
     "end_time": "2020-07-21T14:20:11.735946Z",
     "start_time": "2020-07-21T14:20:11.703945Z"
    }
   },
   "outputs": [],
   "source": [
    "def updatenulldf():\n",
    "    '''\n",
    "        This Function will give all the column names where nulls are present either in train or test\n",
    "    '''\n",
    "    a = pd.DataFrame(train.isnull().sum(),columns=['train'])\n",
    "    b = pd.DataFrame(test.isnull().sum(),columns=['test'])\n",
    "    df = pd.concat([a,b],axis=1)\n",
    "    df.sort_values(by=['train','test'],ascending=False,inplace=True)\n",
    "    df['Processed ?'] = df['train']+df['test']\n",
    "    df['Processed ?'] = df['Processed ?'].apply(lambda x : \"No\" if x>0 else \"Yes\")\n",
    "    df = df.loc[df['Processed ?']==\"No\"].sort_values(by=['train','test'])\n",
    "    return df"
   ]
  },
  {
   "cell_type": "code",
   "execution_count": 8,
   "metadata": {
    "ExecuteTime": {
     "end_time": "2020-07-21T14:20:15.606527Z",
     "start_time": "2020-07-21T14:20:14.750512Z"
    }
   },
   "outputs": [
    {
     "data": {
      "text/html": [
       "<div>\n",
       "<style scoped>\n",
       "    .dataframe tbody tr th:only-of-type {\n",
       "        vertical-align: middle;\n",
       "    }\n",
       "\n",
       "    .dataframe tbody tr th {\n",
       "        vertical-align: top;\n",
       "    }\n",
       "\n",
       "    .dataframe thead th {\n",
       "        text-align: right;\n",
       "    }\n",
       "</style>\n",
       "<table border=\"1\" class=\"dataframe\">\n",
       "  <thead>\n",
       "    <tr style=\"text-align: right;\">\n",
       "      <th></th>\n",
       "      <th>train</th>\n",
       "      <th>test</th>\n",
       "      <th>Processed ?</th>\n",
       "    </tr>\n",
       "  </thead>\n",
       "  <tbody>\n",
       "    <tr>\n",
       "      <th>Exterior1st</th>\n",
       "      <td>0</td>\n",
       "      <td>1</td>\n",
       "      <td>No</td>\n",
       "    </tr>\n",
       "    <tr>\n",
       "      <th>Exterior2nd</th>\n",
       "      <td>0</td>\n",
       "      <td>1</td>\n",
       "      <td>No</td>\n",
       "    </tr>\n",
       "    <tr>\n",
       "      <th>BsmtFinSF1</th>\n",
       "      <td>0</td>\n",
       "      <td>1</td>\n",
       "      <td>No</td>\n",
       "    </tr>\n",
       "    <tr>\n",
       "      <th>BsmtFinSF2</th>\n",
       "      <td>0</td>\n",
       "      <td>1</td>\n",
       "      <td>No</td>\n",
       "    </tr>\n",
       "    <tr>\n",
       "      <th>BsmtUnfSF</th>\n",
       "      <td>0</td>\n",
       "      <td>1</td>\n",
       "      <td>No</td>\n",
       "    </tr>\n",
       "  </tbody>\n",
       "</table>\n",
       "</div>"
      ],
      "text/plain": [
       "             train  test Processed ?\n",
       "Exterior1st      0     1          No\n",
       "Exterior2nd      0     1          No\n",
       "BsmtFinSF1       0     1          No\n",
       "BsmtFinSF2       0     1          No\n",
       "BsmtUnfSF        0     1          No"
      ]
     },
     "execution_count": 8,
     "metadata": {},
     "output_type": "execute_result"
    }
   ],
   "source": [
    "nulldf = updatenulldf()\n",
    "nulldf.head()"
   ]
  },
  {
   "cell_type": "markdown",
   "metadata": {
    "ExecuteTime": {
     "end_time": "2020-07-14T12:26:12.099203Z",
     "start_time": "2020-07-14T12:26:11.995195Z"
    }
   },
   "source": [
    "<h5>Getting only those cols where we need to do processing null for test dataset only</h5>"
   ]
  },
  {
   "cell_type": "code",
   "execution_count": 9,
   "metadata": {
    "ExecuteTime": {
     "end_time": "2020-07-21T14:20:18.390594Z",
     "start_time": "2020-07-21T14:20:18.318588Z"
    }
   },
   "outputs": [
    {
     "name": "stdout",
     "output_type": "stream",
     "text": [
      "<class 'pandas.core.frame.DataFrame'>\n",
      "RangeIndex: 1459 entries, 0 to 1458\n",
      "Data columns (total 15 columns):\n",
      " #   Column        Non-Null Count  Dtype  \n",
      "---  ------        --------------  -----  \n",
      " 0   Exterior1st   1458 non-null   object \n",
      " 1   Exterior2nd   1458 non-null   object \n",
      " 2   BsmtFinSF1    1458 non-null   float64\n",
      " 3   BsmtFinSF2    1458 non-null   float64\n",
      " 4   BsmtUnfSF     1458 non-null   float64\n",
      " 5   TotalBsmtSF   1458 non-null   float64\n",
      " 6   KitchenQual   1458 non-null   object \n",
      " 7   GarageCars    1458 non-null   float64\n",
      " 8   GarageArea    1458 non-null   float64\n",
      " 9   SaleType      1458 non-null   object \n",
      " 10  Utilities     1457 non-null   object \n",
      " 11  BsmtFullBath  1457 non-null   float64\n",
      " 12  BsmtHalfBath  1457 non-null   float64\n",
      " 13  Functional    1457 non-null   object \n",
      " 14  MSZoning      1455 non-null   object \n",
      "dtypes: float64(8), object(7)\n",
      "memory usage: 171.1+ KB\n"
     ]
    }
   ],
   "source": [
    "cols = nulldf.loc[nulldf.train==0].index\n",
    "test[cols].info()"
   ]
  },
  {
   "cell_type": "code",
   "execution_count": 10,
   "metadata": {
    "ExecuteTime": {
     "end_time": "2020-07-21T14:20:22.732305Z",
     "start_time": "2020-07-21T14:20:22.700309Z"
    }
   },
   "outputs": [],
   "source": [
    "float_cols = test[cols].select_dtypes(include=['float64']).columns\n",
    "object_cols=test[cols].select_dtypes(include=['object']).columns"
   ]
  },
  {
   "cell_type": "markdown",
   "metadata": {},
   "source": [
    "<h5>Filling all numeric values with median and Object values with Mode. Since in these columns the missing values are very less so we can afford doing it this way.</h5>"
   ]
  },
  {
   "cell_type": "code",
   "execution_count": 11,
   "metadata": {
    "ExecuteTime": {
     "end_time": "2020-07-21T14:20:24.828357Z",
     "start_time": "2020-07-21T14:20:24.596346Z"
    }
   },
   "outputs": [],
   "source": [
    "for col in float_cols:\n",
    "    test[col] = test[col].fillna((test[col].dropna().median()))\n",
    "for col in object_cols:\n",
    "    value_to_fill = test[col].dropna().mode().to_string(index=False).strip()\n",
    "    test[col] = test[col].fillna(value_to_fill)"
   ]
  },
  {
   "cell_type": "markdown",
   "metadata": {
    "ExecuteTime": {
     "end_time": "2020-07-14T12:56:41.309368Z",
     "start_time": "2020-07-14T12:56:41.191596Z"
    }
   },
   "source": [
    "<h5>Getting only those cols where we need to do processing null for train dataset only</h5>"
   ]
  },
  {
   "cell_type": "code",
   "execution_count": 12,
   "metadata": {
    "ExecuteTime": {
     "end_time": "2020-07-21T14:20:27.628415Z",
     "start_time": "2020-07-21T14:20:27.588413Z"
    }
   },
   "outputs": [
    {
     "name": "stdout",
     "output_type": "stream",
     "text": [
      "<class 'pandas.core.frame.DataFrame'>\n",
      "RangeIndex: 1460 entries, 0 to 1459\n",
      "Data columns (total 1 columns):\n",
      " #   Column      Non-Null Count  Dtype \n",
      "---  ------      --------------  ----- \n",
      " 0   Electrical  1459 non-null   object\n",
      "dtypes: object(1)\n",
      "memory usage: 11.5+ KB\n"
     ]
    }
   ],
   "source": [
    "cols = nulldf.loc[nulldf.test==0].index\n",
    "train[cols].info()"
   ]
  },
  {
   "cell_type": "code",
   "execution_count": 13,
   "metadata": {
    "ExecuteTime": {
     "end_time": "2020-07-21T14:20:30.084470Z",
     "start_time": "2020-07-21T14:20:30.060468Z"
    }
   },
   "outputs": [],
   "source": [
    "col = 'Electrical'\n",
    "value_to_fill = train[col].dropna().mode().to_string(index=False).strip()\n",
    "train[col] = train[col].fillna(value_to_fill)"
   ]
  },
  {
   "cell_type": "code",
   "execution_count": 14,
   "metadata": {
    "ExecuteTime": {
     "end_time": "2020-07-21T14:20:32.579873Z",
     "start_time": "2020-07-21T14:20:32.491871Z"
    }
   },
   "outputs": [
    {
     "data": {
      "text/html": [
       "<div>\n",
       "<style scoped>\n",
       "    .dataframe tbody tr th:only-of-type {\n",
       "        vertical-align: middle;\n",
       "    }\n",
       "\n",
       "    .dataframe tbody tr th {\n",
       "        vertical-align: top;\n",
       "    }\n",
       "\n",
       "    .dataframe thead th {\n",
       "        text-align: right;\n",
       "    }\n",
       "</style>\n",
       "<table border=\"1\" class=\"dataframe\">\n",
       "  <thead>\n",
       "    <tr style=\"text-align: right;\">\n",
       "      <th></th>\n",
       "      <th>train</th>\n",
       "      <th>test</th>\n",
       "      <th>Processed ?</th>\n",
       "    </tr>\n",
       "  </thead>\n",
       "  <tbody>\n",
       "    <tr>\n",
       "      <th>MasVnrArea</th>\n",
       "      <td>8</td>\n",
       "      <td>15</td>\n",
       "      <td>No</td>\n",
       "    </tr>\n",
       "    <tr>\n",
       "      <th>MasVnrType</th>\n",
       "      <td>8</td>\n",
       "      <td>16</td>\n",
       "      <td>No</td>\n",
       "    </tr>\n",
       "    <tr>\n",
       "      <th>BsmtFinType1</th>\n",
       "      <td>37</td>\n",
       "      <td>42</td>\n",
       "      <td>No</td>\n",
       "    </tr>\n",
       "    <tr>\n",
       "      <th>BsmtQual</th>\n",
       "      <td>37</td>\n",
       "      <td>44</td>\n",
       "      <td>No</td>\n",
       "    </tr>\n",
       "    <tr>\n",
       "      <th>BsmtCond</th>\n",
       "      <td>37</td>\n",
       "      <td>45</td>\n",
       "      <td>No</td>\n",
       "    </tr>\n",
       "  </tbody>\n",
       "</table>\n",
       "</div>"
      ],
      "text/plain": [
       "              train  test Processed ?\n",
       "MasVnrArea        8    15          No\n",
       "MasVnrType        8    16          No\n",
       "BsmtFinType1     37    42          No\n",
       "BsmtQual         37    44          No\n",
       "BsmtCond         37    45          No"
      ]
     },
     "execution_count": 14,
     "metadata": {},
     "output_type": "execute_result"
    }
   ],
   "source": [
    "nulldf = updatenulldf()\n",
    "nulldf.head()"
   ]
  },
  {
   "cell_type": "markdown",
   "metadata": {
    "ExecuteTime": {
     "end_time": "2020-07-14T13:04:49.161163Z",
     "start_time": "2020-07-14T13:04:49.147154Z"
    }
   },
   "source": [
    "<h4> Processing MasVnrType,MasVnrArea </h4>\n",
    "<br>\n",
    "MasVnrType: Masonry veneer type\n",
    "\n",
    "       BrkCmn\tBrick Common\n",
    "       BrkFace\tBrick Face\n",
    "       CBlock\tCinder Block\n",
    "       None  \tNone\n",
    "       Stone\tStone\n",
    "\n",
    "MasVnrArea: Masonry veneer area in square feet"
   ]
  },
  {
   "cell_type": "code",
   "execution_count": 25,
   "metadata": {
    "ExecuteTime": {
     "end_time": "2020-07-20T13:50:35.754037Z",
     "start_time": "2020-07-20T13:50:35.727015Z"
    }
   },
   "outputs": [
    {
     "data": {
      "text/html": [
       "<div>\n",
       "<style scoped>\n",
       "    .dataframe tbody tr th:only-of-type {\n",
       "        vertical-align: middle;\n",
       "    }\n",
       "\n",
       "    .dataframe tbody tr th {\n",
       "        vertical-align: top;\n",
       "    }\n",
       "\n",
       "    .dataframe thead th {\n",
       "        text-align: right;\n",
       "    }\n",
       "</style>\n",
       "<table border=\"1\" class=\"dataframe\">\n",
       "  <thead>\n",
       "    <tr style=\"text-align: right;\">\n",
       "      <th></th>\n",
       "      <th>MasVnrType</th>\n",
       "      <th>MasVnrArea</th>\n",
       "    </tr>\n",
       "  </thead>\n",
       "  <tbody>\n",
       "    <tr>\n",
       "      <th>0</th>\n",
       "      <td>BrkFace</td>\n",
       "      <td>196.0</td>\n",
       "    </tr>\n",
       "    <tr>\n",
       "      <th>1</th>\n",
       "      <td>None</td>\n",
       "      <td>0.0</td>\n",
       "    </tr>\n",
       "    <tr>\n",
       "      <th>2</th>\n",
       "      <td>BrkFace</td>\n",
       "      <td>162.0</td>\n",
       "    </tr>\n",
       "    <tr>\n",
       "      <th>3</th>\n",
       "      <td>None</td>\n",
       "      <td>0.0</td>\n",
       "    </tr>\n",
       "    <tr>\n",
       "      <th>4</th>\n",
       "      <td>BrkFace</td>\n",
       "      <td>350.0</td>\n",
       "    </tr>\n",
       "  </tbody>\n",
       "</table>\n",
       "</div>"
      ],
      "text/plain": [
       "  MasVnrType  MasVnrArea\n",
       "0    BrkFace       196.0\n",
       "1       None         0.0\n",
       "2    BrkFace       162.0\n",
       "3       None         0.0\n",
       "4    BrkFace       350.0"
      ]
     },
     "execution_count": 25,
     "metadata": {},
     "output_type": "execute_result"
    }
   ],
   "source": [
    "train[['MasVnrType','MasVnrArea']].head()"
   ]
  },
  {
   "cell_type": "code",
   "execution_count": 26,
   "metadata": {
    "ExecuteTime": {
     "end_time": "2020-07-20T13:50:39.237109Z",
     "start_time": "2020-07-20T13:50:39.210091Z"
    }
   },
   "outputs": [
    {
     "data": {
      "text/plain": [
       "MasVnrType\n",
       "BrkCmn     247.666667\n",
       "BrkFace    259.008989\n",
       "None         1.094907\n",
       "Stone      239.304688\n",
       "Name: MasVnrArea, dtype: float64"
      ]
     },
     "execution_count": 26,
     "metadata": {},
     "output_type": "execute_result"
    }
   ],
   "source": [
    "train[['MasVnrType','MasVnrArea']].groupby('MasVnrType')['MasVnrArea'].mean()"
   ]
  },
  {
   "cell_type": "code",
   "execution_count": 27,
   "metadata": {
    "ExecuteTime": {
     "end_time": "2020-07-20T13:50:44.956292Z",
     "start_time": "2020-07-20T13:50:44.943282Z"
    }
   },
   "outputs": [
    {
     "data": {
      "text/plain": [
       "0    None\n",
       "dtype: object"
      ]
     },
     "execution_count": 27,
     "metadata": {},
     "output_type": "execute_result"
    }
   ],
   "source": [
    "train['MasVnrType'].mode()"
   ]
  },
  {
   "cell_type": "markdown",
   "metadata": {},
   "source": [
    "<h5>We are filling the data according to None value as when value isn't present that means it is None</h5>"
   ]
  },
  {
   "cell_type": "code",
   "execution_count": 15,
   "metadata": {
    "ExecuteTime": {
     "end_time": "2020-07-21T14:20:40.908057Z",
     "start_time": "2020-07-21T14:20:40.876056Z"
    }
   },
   "outputs": [],
   "source": [
    "train['MasVnrType'] = train['MasVnrType'].fillna('None')\n",
    "train['MasVnrArea'] = train['MasVnrArea'].fillna(1.094907)\n",
    "test['MasVnrType'] = test['MasVnrType'].fillna('None')\n",
    "test['MasVnrArea'] = test['MasVnrArea'].fillna(1.094907)"
   ]
  },
  {
   "cell_type": "code",
   "execution_count": 29,
   "metadata": {
    "ExecuteTime": {
     "end_time": "2020-07-20T13:50:50.889325Z",
     "start_time": "2020-07-20T13:50:50.817276Z"
    }
   },
   "outputs": [
    {
     "data": {
      "text/html": [
       "<div>\n",
       "<style scoped>\n",
       "    .dataframe tbody tr th:only-of-type {\n",
       "        vertical-align: middle;\n",
       "    }\n",
       "\n",
       "    .dataframe tbody tr th {\n",
       "        vertical-align: top;\n",
       "    }\n",
       "\n",
       "    .dataframe thead th {\n",
       "        text-align: right;\n",
       "    }\n",
       "</style>\n",
       "<table border=\"1\" class=\"dataframe\">\n",
       "  <thead>\n",
       "    <tr style=\"text-align: right;\">\n",
       "      <th></th>\n",
       "      <th>train</th>\n",
       "      <th>test</th>\n",
       "      <th>Processed ?</th>\n",
       "    </tr>\n",
       "  </thead>\n",
       "  <tbody>\n",
       "    <tr>\n",
       "      <th>BsmtFinType1</th>\n",
       "      <td>37</td>\n",
       "      <td>42</td>\n",
       "      <td>No</td>\n",
       "    </tr>\n",
       "    <tr>\n",
       "      <th>BsmtQual</th>\n",
       "      <td>37</td>\n",
       "      <td>44</td>\n",
       "      <td>No</td>\n",
       "    </tr>\n",
       "    <tr>\n",
       "      <th>BsmtCond</th>\n",
       "      <td>37</td>\n",
       "      <td>45</td>\n",
       "      <td>No</td>\n",
       "    </tr>\n",
       "    <tr>\n",
       "      <th>BsmtFinType2</th>\n",
       "      <td>38</td>\n",
       "      <td>42</td>\n",
       "      <td>No</td>\n",
       "    </tr>\n",
       "    <tr>\n",
       "      <th>BsmtExposure</th>\n",
       "      <td>38</td>\n",
       "      <td>44</td>\n",
       "      <td>No</td>\n",
       "    </tr>\n",
       "    <tr>\n",
       "      <th>GarageType</th>\n",
       "      <td>81</td>\n",
       "      <td>76</td>\n",
       "      <td>No</td>\n",
       "    </tr>\n",
       "    <tr>\n",
       "      <th>GarageYrBlt</th>\n",
       "      <td>81</td>\n",
       "      <td>78</td>\n",
       "      <td>No</td>\n",
       "    </tr>\n",
       "    <tr>\n",
       "      <th>GarageFinish</th>\n",
       "      <td>81</td>\n",
       "      <td>78</td>\n",
       "      <td>No</td>\n",
       "    </tr>\n",
       "    <tr>\n",
       "      <th>GarageQual</th>\n",
       "      <td>81</td>\n",
       "      <td>78</td>\n",
       "      <td>No</td>\n",
       "    </tr>\n",
       "    <tr>\n",
       "      <th>GarageCond</th>\n",
       "      <td>81</td>\n",
       "      <td>78</td>\n",
       "      <td>No</td>\n",
       "    </tr>\n",
       "    <tr>\n",
       "      <th>LotFrontage</th>\n",
       "      <td>259</td>\n",
       "      <td>227</td>\n",
       "      <td>No</td>\n",
       "    </tr>\n",
       "    <tr>\n",
       "      <th>FireplaceQu</th>\n",
       "      <td>690</td>\n",
       "      <td>730</td>\n",
       "      <td>No</td>\n",
       "    </tr>\n",
       "    <tr>\n",
       "      <th>Fence</th>\n",
       "      <td>1179</td>\n",
       "      <td>1169</td>\n",
       "      <td>No</td>\n",
       "    </tr>\n",
       "    <tr>\n",
       "      <th>Alley</th>\n",
       "      <td>1369</td>\n",
       "      <td>1352</td>\n",
       "      <td>No</td>\n",
       "    </tr>\n",
       "    <tr>\n",
       "      <th>MiscFeature</th>\n",
       "      <td>1406</td>\n",
       "      <td>1408</td>\n",
       "      <td>No</td>\n",
       "    </tr>\n",
       "    <tr>\n",
       "      <th>PoolQC</th>\n",
       "      <td>1453</td>\n",
       "      <td>1456</td>\n",
       "      <td>No</td>\n",
       "    </tr>\n",
       "  </tbody>\n",
       "</table>\n",
       "</div>"
      ],
      "text/plain": [
       "              train  test Processed ?\n",
       "BsmtFinType1     37    42          No\n",
       "BsmtQual         37    44          No\n",
       "BsmtCond         37    45          No\n",
       "BsmtFinType2     38    42          No\n",
       "BsmtExposure     38    44          No\n",
       "GarageType       81    76          No\n",
       "GarageYrBlt      81    78          No\n",
       "GarageFinish     81    78          No\n",
       "GarageQual       81    78          No\n",
       "GarageCond       81    78          No\n",
       "LotFrontage     259   227          No\n",
       "FireplaceQu     690   730          No\n",
       "Fence          1179  1169          No\n",
       "Alley          1369  1352          No\n",
       "MiscFeature    1406  1408          No\n",
       "PoolQC         1453  1456          No"
      ]
     },
     "execution_count": 29,
     "metadata": {},
     "output_type": "execute_result"
    }
   ],
   "source": [
    "nulldf = updatenulldf()\n",
    "nulldf"
   ]
  },
  {
   "cell_type": "markdown",
   "metadata": {},
   "source": [
    "<h4> Now we need to fill all the Basement variables</h4>\n",
    "\n",
    "    BsmtCond: Evaluates the general condition of the basement\n",
    "       Ex\tExcellent\n",
    "       Gd\tGood\n",
    "       TA\tTypical - slight dampness allowed\n",
    "       Fa\tFair - dampness or some cracking or settling\n",
    "       Po\tPoor - Severe cracking, settling, or wetness\n",
    "       NA\tNo Basement\n",
    "    \n",
    "    BsmtExposure: Refers to walkout or garden level walls\n",
    "       Gd\tGood Exposure\n",
    "       Av\tAverage Exposure (split levels or foyers typically score average or above)\t\n",
    "       Mn\tMimimum Exposure\n",
    "       No\tNo Exposure\n",
    "       NA\tNo Basement\n",
    "       \n",
    "    BsmtFinType2: Rating of basement finished area (if multiple types)\n",
    "       GLQ\tGood Living Quarters\n",
    "       ALQ\tAverage Living Quarters\n",
    "       BLQ\tBelow Average Living Quarters\t\n",
    "       Rec\tAverage Rec Room\n",
    "       LwQ\tLow Quality\n",
    "       Unf\tUnfinshed\n",
    "       NA\tNo Basement\n",
    "       \n",
    "    BsmtFinType1: Rating of basement finished area\n",
    "       GLQ\tGood Living Quarters\n",
    "       ALQ\tAverage Living Quarters\n",
    "       BLQ\tBelow Average Living Quarters\t\n",
    "       Rec\tAverage Rec Room\n",
    "       LwQ\tLow Quality\n",
    "       Unf\tUnfinshed\n",
    "       NA\tNo Basement\n",
    "  \n",
    "    BsmtQual: Height of the basement"
   ]
  },
  {
   "cell_type": "code",
   "execution_count": 30,
   "metadata": {
    "ExecuteTime": {
     "end_time": "2020-07-20T13:53:43.894778Z",
     "start_time": "2020-07-20T13:53:43.876763Z"
    }
   },
   "outputs": [
    {
     "data": {
      "text/plain": [
       "TA    1311\n",
       "Gd      65\n",
       "Fa      45\n",
       "Po       2\n",
       "Name: BsmtCond, dtype: int64"
      ]
     },
     "execution_count": 30,
     "metadata": {},
     "output_type": "execute_result"
    }
   ],
   "source": [
    "train['BsmtCond'].value_counts()"
   ]
  },
  {
   "cell_type": "markdown",
   "metadata": {},
   "source": [
    "<h5>As per my Data understanding the Basement columns are null where there is no basement at all. Let's Check</h5>"
   ]
  },
  {
   "cell_type": "code",
   "execution_count": 16,
   "metadata": {
    "ExecuteTime": {
     "end_time": "2020-07-21T14:20:48.500227Z",
     "start_time": "2020-07-21T14:20:48.476230Z"
    }
   },
   "outputs": [],
   "source": [
    "basement_train = train[['BsmtQual','BsmtCond','BsmtExposure','BsmtFinType1','BsmtFinType2']]\n",
    "basement_test = test[['BsmtQual','BsmtCond','BsmtExposure','BsmtFinType1','BsmtFinType2']]"
   ]
  },
  {
   "cell_type": "code",
   "execution_count": 32,
   "metadata": {
    "ExecuteTime": {
     "end_time": "2020-07-20T13:54:45.966441Z",
     "start_time": "2020-07-20T13:54:45.948432Z"
    }
   },
   "outputs": [
    {
     "name": "stdout",
     "output_type": "stream",
     "text": [
      "37\n",
      "42\n"
     ]
    }
   ],
   "source": [
    "print(sum(basement_train.isnull().all(axis=1)))\n",
    "print(sum(basement_test.isnull().all(axis=1)))"
   ]
  },
  {
   "cell_type": "code",
   "execution_count": 33,
   "metadata": {
    "ExecuteTime": {
     "end_time": "2020-07-20T13:54:49.257931Z",
     "start_time": "2020-07-20T13:54:49.237922Z"
    }
   },
   "outputs": [
    {
     "name": "stdout",
     "output_type": "stream",
     "text": [
      "<class 'pandas.core.frame.DataFrame'>\n",
      "RangeIndex: 1460 entries, 0 to 1459\n",
      "Data columns (total 5 columns):\n",
      " #   Column        Non-Null Count  Dtype \n",
      "---  ------        --------------  ----- \n",
      " 0   BsmtQual      1423 non-null   object\n",
      " 1   BsmtCond      1423 non-null   object\n",
      " 2   BsmtExposure  1422 non-null   object\n",
      " 3   BsmtFinType1  1423 non-null   object\n",
      " 4   BsmtFinType2  1422 non-null   object\n",
      "dtypes: object(5)\n",
      "memory usage: 57.2+ KB\n"
     ]
    }
   ],
   "source": [
    "basement_train.info()"
   ]
  },
  {
   "cell_type": "markdown",
   "metadata": {},
   "source": [
    "<h5>Now we can just Fillin null values as 'NA', which refers to No Basement in data dictionary, for all the above cols for train and test</h5>"
   ]
  },
  {
   "cell_type": "code",
   "execution_count": 17,
   "metadata": {
    "ExecuteTime": {
     "end_time": "2020-07-21T14:20:55.557328Z",
     "start_time": "2020-07-21T14:20:55.517324Z"
    }
   },
   "outputs": [],
   "source": [
    "basement_cols = basement_train.columns\n",
    "for col in basement_cols:\n",
    "    train[col] = train[col].fillna('NA')\n",
    "    test[col] = test[col].fillna('NA')"
   ]
  },
  {
   "cell_type": "code",
   "execution_count": 35,
   "metadata": {
    "ExecuteTime": {
     "end_time": "2020-07-20T13:55:23.859404Z",
     "start_time": "2020-07-20T13:55:23.769347Z"
    }
   },
   "outputs": [
    {
     "data": {
      "text/html": [
       "<div>\n",
       "<style scoped>\n",
       "    .dataframe tbody tr th:only-of-type {\n",
       "        vertical-align: middle;\n",
       "    }\n",
       "\n",
       "    .dataframe tbody tr th {\n",
       "        vertical-align: top;\n",
       "    }\n",
       "\n",
       "    .dataframe thead th {\n",
       "        text-align: right;\n",
       "    }\n",
       "</style>\n",
       "<table border=\"1\" class=\"dataframe\">\n",
       "  <thead>\n",
       "    <tr style=\"text-align: right;\">\n",
       "      <th></th>\n",
       "      <th>train</th>\n",
       "      <th>test</th>\n",
       "      <th>Processed ?</th>\n",
       "    </tr>\n",
       "  </thead>\n",
       "  <tbody>\n",
       "    <tr>\n",
       "      <th>GarageType</th>\n",
       "      <td>81</td>\n",
       "      <td>76</td>\n",
       "      <td>No</td>\n",
       "    </tr>\n",
       "    <tr>\n",
       "      <th>GarageYrBlt</th>\n",
       "      <td>81</td>\n",
       "      <td>78</td>\n",
       "      <td>No</td>\n",
       "    </tr>\n",
       "    <tr>\n",
       "      <th>GarageFinish</th>\n",
       "      <td>81</td>\n",
       "      <td>78</td>\n",
       "      <td>No</td>\n",
       "    </tr>\n",
       "    <tr>\n",
       "      <th>GarageQual</th>\n",
       "      <td>81</td>\n",
       "      <td>78</td>\n",
       "      <td>No</td>\n",
       "    </tr>\n",
       "    <tr>\n",
       "      <th>GarageCond</th>\n",
       "      <td>81</td>\n",
       "      <td>78</td>\n",
       "      <td>No</td>\n",
       "    </tr>\n",
       "    <tr>\n",
       "      <th>LotFrontage</th>\n",
       "      <td>259</td>\n",
       "      <td>227</td>\n",
       "      <td>No</td>\n",
       "    </tr>\n",
       "    <tr>\n",
       "      <th>FireplaceQu</th>\n",
       "      <td>690</td>\n",
       "      <td>730</td>\n",
       "      <td>No</td>\n",
       "    </tr>\n",
       "    <tr>\n",
       "      <th>Fence</th>\n",
       "      <td>1179</td>\n",
       "      <td>1169</td>\n",
       "      <td>No</td>\n",
       "    </tr>\n",
       "    <tr>\n",
       "      <th>Alley</th>\n",
       "      <td>1369</td>\n",
       "      <td>1352</td>\n",
       "      <td>No</td>\n",
       "    </tr>\n",
       "    <tr>\n",
       "      <th>MiscFeature</th>\n",
       "      <td>1406</td>\n",
       "      <td>1408</td>\n",
       "      <td>No</td>\n",
       "    </tr>\n",
       "    <tr>\n",
       "      <th>PoolQC</th>\n",
       "      <td>1453</td>\n",
       "      <td>1456</td>\n",
       "      <td>No</td>\n",
       "    </tr>\n",
       "  </tbody>\n",
       "</table>\n",
       "</div>"
      ],
      "text/plain": [
       "              train  test Processed ?\n",
       "GarageType       81    76          No\n",
       "GarageYrBlt      81    78          No\n",
       "GarageFinish     81    78          No\n",
       "GarageQual       81    78          No\n",
       "GarageCond       81    78          No\n",
       "LotFrontage     259   227          No\n",
       "FireplaceQu     690   730          No\n",
       "Fence          1179  1169          No\n",
       "Alley          1369  1352          No\n",
       "MiscFeature    1406  1408          No\n",
       "PoolQC         1453  1456          No"
      ]
     },
     "execution_count": 35,
     "metadata": {},
     "output_type": "execute_result"
    }
   ],
   "source": [
    "nulldf = updatenulldf()\n",
    "nulldf"
   ]
  },
  {
   "cell_type": "markdown",
   "metadata": {},
   "source": [
    "<h3>Now we can take care of Garage Column</h3>\n",
    "\n",
    "     GarageType: Garage location\t\t\n",
    "       2Types\tMore than one type of garage\n",
    "       Attchd\tAttached to home\n",
    "       Basment\tBasement Garage\n",
    "       BuiltIn\tBuilt-In (Garage part of house - typically has room above garage)\n",
    "       CarPort\tCar Port\n",
    "       Detchd\tDetached from home\n",
    "       NA\tNo Garage\n",
    "\t\t\n",
    "     GarageYrBlt: Year garage was built\n",
    "\t\t\n",
    "     GarageFinish: Interior finish of the garage\n",
    "       Fin\tFinished\n",
    "       RFn\tRough Finished\t\n",
    "       Unf\tUnfinished\n",
    "       NA\tNo Garage\n",
    "       \n",
    "     GarageQual: Garage quality\n",
    "       Ex\tExcellent\n",
    "       Gd\tGood\n",
    "       TA\tTypical/Average\n",
    "       Fa\tFair\n",
    "       Po\tPoor\n",
    "       NA\tNo Garage\n",
    "\t\t\n",
    "    GarageCond: Garage condition\n",
    "       Ex\tExcellent\n",
    "       Gd\tGood\n",
    "       TA\tTypical/Average\n",
    "       Fa\tFair\n",
    "       Po\tPoor\n",
    "       NA\tNo Garage\n",
    "       \n",
    "As per my Data understanding the Garage columns are null where there is no basement at all. Let's Check"
   ]
  },
  {
   "cell_type": "code",
   "execution_count": 18,
   "metadata": {
    "ExecuteTime": {
     "end_time": "2020-07-21T14:21:01.525461Z",
     "start_time": "2020-07-21T14:21:01.493456Z"
    }
   },
   "outputs": [],
   "source": [
    "garage_train = train[['GarageType','GarageYrBlt','GarageFinish','GarageQual','GarageCond']]\n",
    "garage_test = test[['GarageType','GarageYrBlt','GarageFinish','GarageQual','GarageCond']]"
   ]
  },
  {
   "cell_type": "code",
   "execution_count": 37,
   "metadata": {
    "ExecuteTime": {
     "end_time": "2020-07-20T13:55:48.383890Z",
     "start_time": "2020-07-20T13:55:48.367879Z"
    }
   },
   "outputs": [
    {
     "data": {
      "text/plain": [
       "Attchd     870\n",
       "Detchd     387\n",
       "BuiltIn     88\n",
       "Basment     19\n",
       "CarPort      9\n",
       "2Types       6\n",
       "Name: GarageType, dtype: int64"
      ]
     },
     "execution_count": 37,
     "metadata": {},
     "output_type": "execute_result"
    }
   ],
   "source": [
    "garage_train['GarageType'].value_counts()"
   ]
  },
  {
   "cell_type": "code",
   "execution_count": 38,
   "metadata": {
    "ExecuteTime": {
     "end_time": "2020-07-20T13:55:51.734801Z",
     "start_time": "2020-07-20T13:55:51.715790Z"
    }
   },
   "outputs": [
    {
     "name": "stdout",
     "output_type": "stream",
     "text": [
      "81\n",
      "76\n"
     ]
    }
   ],
   "source": [
    "print(sum(garage_train.isnull().all(axis=1)))\n",
    "print(sum(garage_test.isnull().all(axis=1)))"
   ]
  },
  {
   "cell_type": "code",
   "execution_count": 19,
   "metadata": {
    "ExecuteTime": {
     "end_time": "2020-07-21T14:21:06.253563Z",
     "start_time": "2020-07-21T14:21:06.229567Z"
    }
   },
   "outputs": [],
   "source": [
    "float_cols = garage_train.select_dtypes(include=['float64']).columns\n",
    "object_cols = garage_train.select_dtypes(include=['object']).columns"
   ]
  },
  {
   "cell_type": "code",
   "execution_count": 40,
   "metadata": {
    "ExecuteTime": {
     "end_time": "2020-07-20T13:56:12.444786Z",
     "start_time": "2020-07-20T13:56:12.411764Z"
    }
   },
   "outputs": [
    {
     "name": "stdout",
     "output_type": "stream",
     "text": [
      "1900.0\n",
      "2010.0\n"
     ]
    },
    {
     "data": {
      "text/plain": [
       "Index(['GarageType', 'GarageFinish', 'GarageQual', 'GarageCond'], dtype='object')"
      ]
     },
     "execution_count": 40,
     "metadata": {},
     "output_type": "execute_result"
    }
   ],
   "source": [
    "print(garage_train['GarageYrBlt'].min())\n",
    "print(garage_train['GarageYrBlt'].max())\n",
    "object_cols"
   ]
  },
  {
   "cell_type": "code",
   "execution_count": 20,
   "metadata": {
    "ExecuteTime": {
     "end_time": "2020-07-21T14:21:09.317635Z",
     "start_time": "2020-07-21T14:21:09.269635Z"
    }
   },
   "outputs": [],
   "source": [
    "for col in object_cols:\n",
    "    train[col] = train[col].fillna('NA')\n",
    "    test[col] = test[col].fillna('NA')\n",
    "train['GarageYrBlt'] = train['GarageYrBlt'].fillna(0)\n",
    "test['GarageYrBlt'] = test['GarageYrBlt'].fillna(0)"
   ]
  },
  {
   "cell_type": "code",
   "execution_count": 21,
   "metadata": {
    "ExecuteTime": {
     "end_time": "2020-07-21T14:21:16.389790Z",
     "start_time": "2020-07-21T14:21:16.285787Z"
    }
   },
   "outputs": [
    {
     "data": {
      "text/html": [
       "<div>\n",
       "<style scoped>\n",
       "    .dataframe tbody tr th:only-of-type {\n",
       "        vertical-align: middle;\n",
       "    }\n",
       "\n",
       "    .dataframe tbody tr th {\n",
       "        vertical-align: top;\n",
       "    }\n",
       "\n",
       "    .dataframe thead th {\n",
       "        text-align: right;\n",
       "    }\n",
       "</style>\n",
       "<table border=\"1\" class=\"dataframe\">\n",
       "  <thead>\n",
       "    <tr style=\"text-align: right;\">\n",
       "      <th></th>\n",
       "      <th>train</th>\n",
       "      <th>test</th>\n",
       "      <th>Processed ?</th>\n",
       "    </tr>\n",
       "  </thead>\n",
       "  <tbody>\n",
       "    <tr>\n",
       "      <th>LotFrontage</th>\n",
       "      <td>259</td>\n",
       "      <td>227</td>\n",
       "      <td>No</td>\n",
       "    </tr>\n",
       "  </tbody>\n",
       "</table>\n",
       "</div>"
      ],
      "text/plain": [
       "             train  test Processed ?\n",
       "LotFrontage    259   227          No"
      ]
     },
     "execution_count": 21,
     "metadata": {},
     "output_type": "execute_result"
    }
   ],
   "source": [
    "nulldf = updatenulldf()\n",
    "nulldf"
   ]
  },
  {
   "cell_type": "markdown",
   "metadata": {},
   "source": [
    "<h5>LotFrontage: Linear feet of street connected to property</h5>"
   ]
  },
  {
   "cell_type": "code",
   "execution_count": 22,
   "metadata": {
    "ExecuteTime": {
     "end_time": "2020-07-21T14:21:20.774424Z",
     "start_time": "2020-07-21T14:21:20.470415Z"
    }
   },
   "outputs": [],
   "source": [
    "train['LotFrontage'] = train.groupby('Neighborhood')['LotFrontage'].transform(lambda x: x.fillna(x.median()))\n",
    "test['LotFrontage'] = test.groupby('Neighborhood')['LotFrontage'].transform(lambda x: x.fillna(x.median()))"
   ]
  },
  {
   "cell_type": "code",
   "execution_count": 23,
   "metadata": {
    "ExecuteTime": {
     "end_time": "2020-07-21T14:21:30.086626Z",
     "start_time": "2020-07-21T14:21:29.998624Z"
    }
   },
   "outputs": [
    {
     "data": {
      "text/html": [
       "<div>\n",
       "<style scoped>\n",
       "    .dataframe tbody tr th:only-of-type {\n",
       "        vertical-align: middle;\n",
       "    }\n",
       "\n",
       "    .dataframe tbody tr th {\n",
       "        vertical-align: top;\n",
       "    }\n",
       "\n",
       "    .dataframe thead th {\n",
       "        text-align: right;\n",
       "    }\n",
       "</style>\n",
       "<table border=\"1\" class=\"dataframe\">\n",
       "  <thead>\n",
       "    <tr style=\"text-align: right;\">\n",
       "      <th></th>\n",
       "      <th>train</th>\n",
       "      <th>test</th>\n",
       "      <th>Processed ?</th>\n",
       "    </tr>\n",
       "  </thead>\n",
       "  <tbody>\n",
       "  </tbody>\n",
       "</table>\n",
       "</div>"
      ],
      "text/plain": [
       "Empty DataFrame\n",
       "Columns: [train, test, Processed ?]\n",
       "Index: []"
      ]
     },
     "execution_count": 23,
     "metadata": {},
     "output_type": "execute_result"
    }
   ],
   "source": [
    "nulldf = updatenulldf()\n",
    "nulldf"
   ]
  },
  {
   "cell_type": "markdown",
   "metadata": {
    "ExecuteTime": {
     "end_time": "2020-07-14T18:38:31.088894Z",
     "start_time": "2020-07-14T18:38:31.031856Z"
    }
   },
   "source": [
    "<h4>Now we have processed with all the vars.Let's add some extra variables that can add value to model learning</h4>"
   ]
  },
  {
   "cell_type": "code",
   "execution_count": 24,
   "metadata": {
    "ExecuteTime": {
     "end_time": "2020-07-21T14:22:13.668516Z",
     "start_time": "2020-07-21T14:22:13.588515Z"
    }
   },
   "outputs": [],
   "source": [
    "combined = pd.concat([train,test],axis=0)\n",
    "combined = combined.reset_index(drop=True)"
   ]
  },
  {
   "cell_type": "markdown",
   "metadata": {},
   "source": [
    "<h5>haspool: House is having pool or not</h5>\n",
    "<h5>has2ndfloor: Second floor present or not</h5>\n",
    "<h5>hasgarage: Is Garage there</h5>\n",
    "<h5>hasbsmt: Is basement there</h5>\n",
    "<h5>hasfireplace: does this house has fireplace</h5>\n",
    "<h5>TotalSF: what is the total Surface area</h5>\n",
    "<h5>Total_sqr_footage: Total are in square feet</h5>\n",
    "<h5>Total_Bathrooms: No.of bathrooms</h5>\n",
    "<h5>Total_porch_sf: Porch surface area</h5>\n"
   ]
  },
  {
   "cell_type": "code",
   "execution_count": 29,
   "metadata": {
    "ExecuteTime": {
     "end_time": "2020-07-21T14:22:42.032474Z",
     "start_time": "2020-07-21T14:22:41.920470Z"
    }
   },
   "outputs": [],
   "source": [
    "combined['haspool'] = combined['PoolArea'].apply(lambda x: 1 if x > 0 else 0)\n",
    "combined['has2ndfloor'] = combined['2ndFlrSF'].apply(lambda x: 1 if x > 0 else 0)\n",
    "combined['hasgarage'] = combined['GarageArea'].apply(lambda x: 1 if x > 0 else 0)\n",
    "combined['hasbsmt'] = combined['TotalBsmtSF'].apply(lambda x: 1 if x > 0 else 0)\n",
    "combined['hasfireplace'] = combined['Fireplaces'].apply(lambda x: 1 if x > 0 else 0)\n",
    "combined['TotalSF']=combined['TotalBsmtSF'] + combined['1stFlrSF'] + combined['2ndFlrSF']\n",
    "combined['Total_sqr_footage'] = (combined['BsmtFinSF1'] + combined['BsmtFinSF2'] +\n",
    "                                 combined['1stFlrSF'] + combined['2ndFlrSF'])\n",
    "\n",
    "combined['Total_Bathrooms'] = (combined['FullBath'] + (0.5 * combined['HalfBath']) +\n",
    "                               combined['BsmtFullBath'] + (0.5 * combined['BsmtHalfBath']))\n",
    "\n",
    "combined['Total_porch_sf'] = (combined['OpenPorchSF'] + combined['3SsnPorch'] +\n",
    "                              combined['EnclosedPorch'] + combined['ScreenPorch'] +\n",
    "                              combined['WoodDeckSF'])"
   ]
  },
  {
   "cell_type": "markdown",
   "metadata": {
    "ExecuteTime": {
     "end_time": "2020-07-20T20:40:36.717997Z",
     "start_time": "2020-07-20T20:40:36.703989Z"
    }
   },
   "source": [
    "<h5>Checking for skewness of Variables. Variables those are having skew value > 0.5 are skewed and normalized boxcox_normmax</h5>\n",
    "<br>\n",
    "Links to scipy functions\n",
    "<br>\n",
    "<a href=\"https://docs.scipy.org/doc/scipy/reference/generated/scipy.stats.skew.html\"><h4>skew</h4></a>\n",
    "<br>\n",
    "<a href=\"https://docs.scipy.org/doc/scipy/reference/generated/scipy.special.boxcox1p.html\">boxcox1p</a>\n",
    "<br>\n",
    "<a href=\"https://docs.scipy.org/doc/scipy/reference/generated/scipy.stats.boxcox_normmax.html\">boxcox_normmax</a>\n",
    "<br>"
   ]
  },
  {
   "cell_type": "code",
   "execution_count": 25,
   "metadata": {
    "ExecuteTime": {
     "end_time": "2020-07-21T14:22:21.713410Z",
     "start_time": "2020-07-21T14:22:21.160353Z"
    }
   },
   "outputs": [
    {
     "data": {
      "text/plain": [
       "MiscVal          21.947195\n",
       "PoolArea         16.898328\n",
       "LotArea          12.822431\n",
       "LowQualFinSF     12.088761\n",
       "3SsnPorch        11.376065\n",
       "KitchenAbvGr      4.302254\n",
       "BsmtFinSF2        4.146143\n",
       "EnclosedPorch     4.003891\n",
       "ScreenPorch       3.946694\n",
       "BsmtHalfBath      3.931594\n",
       "MasVnrArea        2.613707\n",
       "OpenPorchSF       2.535114\n",
       "WoodDeckSF        1.842433\n",
       "LotFrontage       1.498578\n",
       "1stFlrSF          1.469604\n",
       "BsmtFinSF1        1.425407\n",
       "MSSubClass        1.375457\n",
       "GrLivArea         1.269358\n",
       "TotalBsmtSF       1.162619\n",
       "BsmtUnfSF         0.919715\n",
       "2ndFlrSF          0.861675\n",
       "TotRmsAbvGrd      0.758367\n",
       "Fireplaces        0.733495\n",
       "HalfBath          0.694566\n",
       "BsmtFullBath      0.624832\n",
       "OverallCond       0.570312\n",
       "BedroomAbvGr      0.326324\n",
       "GarageArea        0.241184\n",
       "OverallQual       0.197110\n",
       "MoSold            0.195884\n",
       "FullBath          0.167606\n",
       "YrSold            0.132399\n",
       "GarageCars       -0.218593\n",
       "YearRemodAdd     -0.451020\n",
       "YearBuilt        -0.599806\n",
       "GarageYrBlt      -3.906205\n",
       "dtype: float64"
      ]
     },
     "execution_count": 25,
     "metadata": {},
     "output_type": "execute_result"
    }
   ],
   "source": [
    "numeric_dtypes = ['int16', 'int32', 'int64', 'float16', 'float32', 'float64']\n",
    "numerics2 = []\n",
    "for i in combined.columns:\n",
    "    if combined[i].dtype in numeric_dtypes:\n",
    "        numerics2.append(i)\n",
    "skew_features = combined[numerics2].apply(lambda x: stats.skew(x)).sort_values(ascending=False)\n",
    "\n",
    "skew_features"
   ]
  },
  {
   "cell_type": "code",
   "execution_count": 26,
   "metadata": {
    "ExecuteTime": {
     "end_time": "2020-07-21T14:22:27.099519Z",
     "start_time": "2020-07-21T14:22:27.075521Z"
    }
   },
   "outputs": [
    {
     "data": {
      "text/plain": [
       "MiscVal          21.947195\n",
       "PoolArea         16.898328\n",
       "LotArea          12.822431\n",
       "LowQualFinSF     12.088761\n",
       "3SsnPorch        11.376065\n",
       "KitchenAbvGr      4.302254\n",
       "BsmtFinSF2        4.146143\n",
       "EnclosedPorch     4.003891\n",
       "ScreenPorch       3.946694\n",
       "BsmtHalfBath      3.931594\n",
       "MasVnrArea        2.613707\n",
       "OpenPorchSF       2.535114\n",
       "WoodDeckSF        1.842433\n",
       "LotFrontage       1.498578\n",
       "1stFlrSF          1.469604\n",
       "BsmtFinSF1        1.425407\n",
       "MSSubClass        1.375457\n",
       "GrLivArea         1.269358\n",
       "TotalBsmtSF       1.162619\n",
       "BsmtUnfSF         0.919715\n",
       "2ndFlrSF          0.861675\n",
       "TotRmsAbvGrd      0.758367\n",
       "Fireplaces        0.733495\n",
       "HalfBath          0.694566\n",
       "BsmtFullBath      0.624832\n",
       "OverallCond       0.570312\n",
       "dtype: float64"
      ]
     },
     "execution_count": 26,
     "metadata": {},
     "output_type": "execute_result"
    }
   ],
   "source": [
    "high_skew = skew_features[skew_features > 0.5]\n",
    "high_skew"
   ]
  },
  {
   "cell_type": "code",
   "execution_count": 27,
   "metadata": {
    "ExecuteTime": {
     "end_time": "2020-07-21T14:22:30.275591Z",
     "start_time": "2020-07-21T14:22:30.251590Z"
    }
   },
   "outputs": [
    {
     "data": {
      "text/plain": [
       "Index(['MiscVal', 'PoolArea', 'LotArea', 'LowQualFinSF', '3SsnPorch',\n",
       "       'KitchenAbvGr', 'BsmtFinSF2', 'EnclosedPorch', 'ScreenPorch',\n",
       "       'BsmtHalfBath', 'MasVnrArea', 'OpenPorchSF', 'WoodDeckSF',\n",
       "       'LotFrontage', '1stFlrSF', 'BsmtFinSF1', 'MSSubClass', 'GrLivArea',\n",
       "       'TotalBsmtSF', 'BsmtUnfSF', '2ndFlrSF', 'TotRmsAbvGrd', 'Fireplaces',\n",
       "       'HalfBath', 'BsmtFullBath', 'OverallCond'],\n",
       "      dtype='object')"
      ]
     },
     "execution_count": 27,
     "metadata": {},
     "output_type": "execute_result"
    }
   ],
   "source": [
    "skew_index = high_skew.index\n",
    "skew_index"
   ]
  },
  {
   "cell_type": "code",
   "execution_count": 28,
   "metadata": {
    "ExecuteTime": {
     "end_time": "2020-07-21T14:22:33.804423Z",
     "start_time": "2020-07-21T14:22:32.036383Z"
    }
   },
   "outputs": [],
   "source": [
    "from scipy import special\n",
    "for i in skew_index:\n",
    "   combined[i] = special.boxcox1p(combined[i], stats.boxcox_normmax(combined[i] + 1))"
   ]
  },
  {
   "cell_type": "code",
   "execution_count": 137,
   "metadata": {
    "ExecuteTime": {
     "end_time": "2020-07-20T20:49:32.588872Z",
     "start_time": "2020-07-20T20:49:32.405753Z"
    }
   },
   "outputs": [
    {
     "name": "stdout",
     "output_type": "stream",
     "text": [
      "<class 'pandas.core.frame.DataFrame'>\n",
      "RangeIndex: 2919 entries, 0 to 2918\n",
      "Data columns (total 83 columns):\n",
      " #   Column             Non-Null Count  Dtype  \n",
      "---  ------             --------------  -----  \n",
      " 0   MSSubClass         2919 non-null   float64\n",
      " 1   MSZoning           2919 non-null   object \n",
      " 2   LotFrontage        2919 non-null   float64\n",
      " 3   LotArea            2919 non-null   float64\n",
      " 4   Street             2919 non-null   object \n",
      " 5   LotShape           2919 non-null   object \n",
      " 6   LandContour        2919 non-null   object \n",
      " 7   Utilities          2919 non-null   object \n",
      " 8   LotConfig          2919 non-null   object \n",
      " 9   LandSlope          2919 non-null   object \n",
      " 10  Neighborhood       2919 non-null   object \n",
      " 11  Condition1         2919 non-null   object \n",
      " 12  Condition2         2919 non-null   object \n",
      " 13  BldgType           2919 non-null   object \n",
      " 14  HouseStyle         2919 non-null   object \n",
      " 15  OverallQual        2919 non-null   int64  \n",
      " 16  OverallCond        2919 non-null   float64\n",
      " 17  YearBuilt          2919 non-null   int64  \n",
      " 18  YearRemodAdd       2919 non-null   int64  \n",
      " 19  RoofStyle          2919 non-null   object \n",
      " 20  RoofMatl           2919 non-null   object \n",
      " 21  Exterior1st        2919 non-null   object \n",
      " 22  Exterior2nd        2919 non-null   object \n",
      " 23  MasVnrType         2919 non-null   object \n",
      " 24  MasVnrArea         2919 non-null   float64\n",
      " 25  ExterQual          2919 non-null   object \n",
      " 26  ExterCond          2919 non-null   object \n",
      " 27  Foundation         2919 non-null   object \n",
      " 28  BsmtQual           2919 non-null   object \n",
      " 29  BsmtCond           2919 non-null   object \n",
      " 30  BsmtExposure       2919 non-null   object \n",
      " 31  BsmtFinType1       2919 non-null   object \n",
      " 32  BsmtFinSF1         2919 non-null   float64\n",
      " 33  BsmtFinType2       2919 non-null   object \n",
      " 34  BsmtFinSF2         2919 non-null   float64\n",
      " 35  BsmtUnfSF          2919 non-null   float64\n",
      " 36  TotalBsmtSF        2919 non-null   float64\n",
      " 37  Heating            2919 non-null   object \n",
      " 38  HeatingQC          2919 non-null   object \n",
      " 39  CentralAir         2919 non-null   object \n",
      " 40  Electrical         2919 non-null   object \n",
      " 41  1stFlrSF           2919 non-null   float64\n",
      " 42  2ndFlrSF           2919 non-null   float64\n",
      " 43  LowQualFinSF       2919 non-null   float64\n",
      " 44  GrLivArea          2919 non-null   float64\n",
      " 45  BsmtFullBath       2919 non-null   float64\n",
      " 46  BsmtHalfBath       2919 non-null   float64\n",
      " 47  FullBath           2919 non-null   int64  \n",
      " 48  HalfBath           2919 non-null   float64\n",
      " 49  BedroomAbvGr       2919 non-null   int64  \n",
      " 50  KitchenAbvGr       2919 non-null   float64\n",
      " 51  KitchenQual        2919 non-null   object \n",
      " 52  TotRmsAbvGrd       2919 non-null   float64\n",
      " 53  Functional         2919 non-null   object \n",
      " 54  Fireplaces         2919 non-null   float64\n",
      " 55  GarageType         2919 non-null   object \n",
      " 56  GarageYrBlt        2919 non-null   float64\n",
      " 57  GarageFinish       2919 non-null   object \n",
      " 58  GarageCars         2919 non-null   float64\n",
      " 59  GarageArea         2919 non-null   float64\n",
      " 60  GarageQual         2919 non-null   object \n",
      " 61  GarageCond         2919 non-null   object \n",
      " 62  PavedDrive         2919 non-null   object \n",
      " 63  WoodDeckSF         2919 non-null   float64\n",
      " 64  OpenPorchSF        2919 non-null   float64\n",
      " 65  EnclosedPorch      2919 non-null   float64\n",
      " 66  3SsnPorch          2919 non-null   float64\n",
      " 67  ScreenPorch        2919 non-null   float64\n",
      " 68  PoolArea           2919 non-null   float64\n",
      " 69  MiscVal            2919 non-null   float64\n",
      " 70  MoSold             2919 non-null   int64  \n",
      " 71  YrSold             2919 non-null   int64  \n",
      " 72  SaleType           2919 non-null   object \n",
      " 73  SaleCondition      2919 non-null   object \n",
      " 74  haspool            2919 non-null   int64  \n",
      " 75  has2ndfloor        2919 non-null   int64  \n",
      " 76  hasgarage          2919 non-null   int64  \n",
      " 77  hasbsmt            2919 non-null   int64  \n",
      " 78  hasfireplace       2919 non-null   int64  \n",
      " 79  TotalSF            2919 non-null   float64\n",
      " 80  Total_sqr_footage  2919 non-null   float64\n",
      " 81  Total_Bathrooms    2919 non-null   float64\n",
      " 82  Total_porch_sf     2919 non-null   float64\n",
      "dtypes: float64(33), int64(12), object(38)\n",
      "memory usage: 1.8+ MB\n"
     ]
    }
   ],
   "source": [
    "combined.info()"
   ]
  },
  {
   "cell_type": "markdown",
   "metadata": {
    "ExecuteTime": {
     "end_time": "2020-07-20T20:52:15.350632Z",
     "start_time": "2020-07-20T20:52:15.337622Z"
    }
   },
   "source": [
    "<h4>Let's visulaize how house price varies with some of its features</h4>"
   ]
  },
  {
   "cell_type": "code",
   "execution_count": 141,
   "metadata": {
    "ExecuteTime": {
     "end_time": "2020-07-20T20:52:37.579940Z",
     "start_time": "2020-07-20T20:52:33.547236Z"
    }
   },
   "outputs": [
    {
     "data": {
      "text/plain": [
       "<matplotlib.axes._subplots.AxesSubplot at 0xa6fe693b48>"
      ]
     },
     "execution_count": 141,
     "metadata": {},
     "output_type": "execute_result"
    },
    {
     "data": {
      "image/png": "[encoded data removed]",
      "text/plain": [
       "<Figure size 1440x1800 with 2 Axes>"
      ]
     },
     "metadata": {},
     "output_type": "display_data"
    }
   ],
   "source": [
    "train_vis = combined[0:1460:]\n",
    "train_vis['SalePrice'] = output_var\n",
    "f, axes = plt.subplots(0, 0, figsize=(20, 25))\n",
    "sns.heatmap(train_vis.corr(),cmap='YlGnBu')"
   ]
  },
  {
   "cell_type": "markdown",
   "metadata": {
    "ExecuteTime": {
     "end_time": "2020-07-20T19:35:03.174820Z",
     "start_time": "2020-07-20T19:35:03.027723Z"
    }
   },
   "source": [
    "<h5>Overall condition is a very positive relation with the SalePrice</h5>"
   ]
  },
  {
   "cell_type": "code",
   "execution_count": 147,
   "metadata": {
    "ExecuteTime": {
     "end_time": "2020-07-20T21:05:19.043302Z",
     "start_time": "2020-07-20T21:05:17.104000Z"
    }
   },
   "outputs": [
    {
     "data": {
      "text/plain": [
       "<matplotlib.axes._subplots.AxesSubplot at 0xa692598c48>"
      ]
     },
     "execution_count": 147,
     "metadata": {},
     "output_type": "execute_result"
    },
    {
     "data": {
      "image/png": "[encoded data removed]",
      "text/plain": [
       "<Figure size 1440x720 with 1 Axes>"
      ]
     },
     "metadata": {},
     "output_type": "display_data"
    }
   ],
   "source": [
    "plt.figure(figsize = (20,10))\n",
    "sns.boxplot(round(train_vis.OverallCond,2),output_var)"
   ]
  },
  {
   "cell_type": "code",
   "execution_count": 134,
   "metadata": {
    "ExecuteTime": {
     "end_time": "2020-07-20T20:48:06.022926Z",
     "start_time": "2020-07-20T20:48:03.793000Z"
    }
   },
   "outputs": [
    {
     "data": {
      "text/plain": [
       "<matplotlib.axes._subplots.AxesSubplot at 0xa6fe7e2948>"
      ]
     },
     "execution_count": 134,
     "metadata": {},
     "output_type": "execute_result"
    },
    {
     "data": {
      "image/png": "[encoded data removed]",
      "text/plain": [
       "<Figure size 1440x720 with 4 Axes>"
      ]
     },
     "metadata": {},
     "output_type": "display_data"
    }
   ],
   "source": [
    "f, axes = plt.subplots(2, 2, figsize=(20, 10), sharex=True)\n",
    "sns.boxplot(train_vis['haspool'],output_var,ax=axes[0,0])\n",
    "sns.boxplot(train_vis['hasgarage'],output_var,ax=axes[0,1])\n",
    "sns.boxplot(train_vis['hasbsmt'],output_var,ax=axes[1,0])\n",
    "sns.boxplot(train_vis['hasfireplace'],output_var,ax=axes[1,1])"
   ]
  },
  {
   "cell_type": "markdown",
   "metadata": {},
   "source": [
    "<h5>It is quite common that extra facilities will increase the price of house and our data proves it<h5>"
   ]
  },
  {
   "cell_type": "code",
   "execution_count": 135,
   "metadata": {
    "ExecuteTime": {
     "end_time": "2020-07-20T20:48:32.983768Z",
     "start_time": "2020-07-20T20:48:28.892454Z"
    }
   },
   "outputs": [
    {
     "data": {
      "text/plain": [
       "<matplotlib.axes._subplots.AxesSubplot at 0xa683f89548>"
      ]
     },
     "execution_count": 135,
     "metadata": {},
     "output_type": "execute_result"
    },
    {
     "data": {
      "image/png": "[encoded data removed]",
      "text/plain": [
       "<Figure size 1440x720 with 4 Axes>"
      ]
     },
     "metadata": {},
     "output_type": "display_data"
    }
   ],
   "source": [
    "f, axes = plt.subplots(2, 2, figsize=(20, 10))\n",
    "sns.scatterplot(x=train_vis.TotalSF,y=output_var,ax=axes[0,0])\n",
    "sns.scatterplot(x=train_vis.Total_sqr_footage  ,y=output_var,ax=axes[0,1])\n",
    "sns.scatterplot(x=train_vis.Total_porch_sf ,y=output_var,ax=axes[1,0])\n",
    "sns.scatterplot(x=train_vis.LotFrontage,y=output_var,ax=axes[1,1])"
   ]
  },
  {
   "cell_type": "markdown",
   "metadata": {
    "ExecuteTime": {
     "end_time": "2020-07-20T20:57:38.334883Z",
     "start_time": "2020-07-20T20:57:38.319877Z"
    }
   },
   "source": [
    "<ul><li>Seems Total_porch_sf doesn't have much impact on sale price</li>\n",
    "<li>Total_porch_sf Surface area doesn't seems to have much impact on price for half of the houses</li></ul>"
   ]
  },
  {
   "cell_type": "code",
   "execution_count": 143,
   "metadata": {
    "ExecuteTime": {
     "end_time": "2020-07-20T20:59:56.870518Z",
     "start_time": "2020-07-20T20:59:50.504426Z"
    }
   },
   "outputs": [
    {
     "data": {
      "text/plain": [
       "<matplotlib.axes._subplots.AxesSubplot at 0xa681c66f08>"
      ]
     },
     "execution_count": 143,
     "metadata": {},
     "output_type": "execute_result"
    },
    {
     "data": {
      "image/png": "[encoded data removed]",
      "text/plain": [
       "<Figure size 1440x1800 with 8 Axes>"
      ]
     },
     "metadata": {},
     "output_type": "display_data"
    }
   ],
   "source": [
    "f, axes = plt.subplots(4, 2, figsize=(20, 25))\n",
    "sns.boxplot(train_vis.CentralAir,output_var,ax=axes[0,0])\n",
    "sns.boxplot(train_vis.HouseStyle,output_var,ax=axes[0,1])\n",
    "sns.boxplot(train_vis.Utilities,output_var,ax=axes[1,1])\n",
    "sns.boxplot(train_vis.Heating,output_var,ax=axes[2,0])\n",
    "sns.boxplot(train_vis.LotShape,output_var,ax=axes[2,1])\n",
    "sns.boxplot(train_vis.Electrical,output_var,ax=axes[3,0])\n",
    "sns.boxplot(train_vis.BldgType,output_var,ax=axes[3,1])\n",
    "sns.boxplot(train_vis.RoofStyle,output_var,ax=axes[1,0])"
   ]
  },
  {
   "cell_type": "markdown",
   "metadata": {
    "ExecuteTime": {
     "end_time": "2020-07-20T21:06:16.746373Z",
     "start_time": "2020-07-20T21:06:16.735367Z"
    }
   },
   "source": [
    "<h5>In the Above figure we can see how Price varies for different features</h5>"
   ]
  },
  {
   "cell_type": "markdown",
   "metadata": {
    "ExecuteTime": {
     "end_time": "2020-07-20T21:07:11.688127Z",
     "start_time": "2020-07-20T21:07:11.678119Z"
    }
   },
   "source": [
    "<h4>Handling Categorical data</h4>"
   ]
  },
  {
   "cell_type": "code",
   "execution_count": 30,
   "metadata": {
    "ExecuteTime": {
     "end_time": "2020-07-21T14:22:57.575312Z",
     "start_time": "2020-07-21T14:22:57.359304Z"
    }
   },
   "outputs": [],
   "source": [
    "combined = pd.get_dummies(combined,drop_first=True)"
   ]
  },
  {
   "cell_type": "markdown",
   "metadata": {},
   "source": [
    "<h5>Now our data is processed and we are saving it in a file so that we don't need to perform the preprocessing again</h5>"
   ]
  },
  {
   "cell_type": "code",
   "execution_count": 31,
   "metadata": {
    "ExecuteTime": {
     "end_time": "2020-07-21T14:23:00.703378Z",
     "start_time": "2020-07-21T14:22:59.367352Z"
    }
   },
   "outputs": [
    {
     "data": {
      "text/plain": [
       "(2919, 250)"
      ]
     },
     "execution_count": 31,
     "metadata": {},
     "output_type": "execute_result"
    }
   ],
   "source": [
    "combined.to_csv('data/combined',index=False)\n",
    "combined.shape"
   ]
  },
  {
   "cell_type": "markdown",
   "metadata": {},
   "source": [
    "Splitting data into train and test"
   ]
  },
  {
   "cell_type": "code",
   "execution_count": 32,
   "metadata": {
    "ExecuteTime": {
     "end_time": "2020-07-21T14:23:02.703426Z",
     "start_time": "2020-07-21T14:23:02.671425Z"
    }
   },
   "outputs": [],
   "source": [
    "train_X = combined[0:1460:]\n",
    "test_X = combined[1460::]"
   ]
  },
  {
   "cell_type": "code",
   "execution_count": 158,
   "metadata": {
    "ExecuteTime": {
     "end_time": "2020-07-20T21:11:33.319003Z",
     "start_time": "2020-07-20T21:11:33.228941Z"
    }
   },
   "outputs": [
    {
     "data": {
      "text/html": [
       "<div>\n",
       "<style scoped>\n",
       "    .dataframe tbody tr th:only-of-type {\n",
       "        vertical-align: middle;\n",
       "    }\n",
       "\n",
       "    .dataframe tbody tr th {\n",
       "        vertical-align: top;\n",
       "    }\n",
       "\n",
       "    .dataframe thead tr th {\n",
       "        text-align: left;\n",
       "    }\n",
       "</style>\n",
       "<table border=\"1\" class=\"dataframe\">\n",
       "  <thead>\n",
       "    <tr>\n",
       "      <th></th>\n",
       "      <th>MSSubClass</th>\n",
       "      <th>LotFrontage</th>\n",
       "      <th>LotArea</th>\n",
       "      <th>OverallQual</th>\n",
       "      <th>OverallCond</th>\n",
       "      <th>YearBuilt</th>\n",
       "      <th>YearRemodAdd</th>\n",
       "      <th>MasVnrArea</th>\n",
       "      <th>BsmtFinSF1</th>\n",
       "      <th>BsmtFinSF2</th>\n",
       "      <th>...</th>\n",
       "      <th>SaleType_ConLI</th>\n",
       "      <th>SaleType_ConLw</th>\n",
       "      <th>SaleType_New</th>\n",
       "      <th>SaleType_Oth</th>\n",
       "      <th>SaleType_WD</th>\n",
       "      <th>SaleCondition_AdjLand</th>\n",
       "      <th>SaleCondition_Alloca</th>\n",
       "      <th>SaleCondition_Family</th>\n",
       "      <th>SaleCondition_Normal</th>\n",
       "      <th>SaleCondition_Partial</th>\n",
       "    </tr>\n",
       "  </thead>\n",
       "  <tbody>\n",
       "    <tr>\n",
       "      <th>0</th>\n",
       "      <td>0.355302</td>\n",
       "      <td>-0.168513</td>\n",
       "      <td>-0.154007</td>\n",
       "      <td>0.651479</td>\n",
       "      <td>-0.508682</td>\n",
       "      <td>1.050994</td>\n",
       "      <td>0.878668</td>\n",
       "      <td>1.019595</td>\n",
       "      <td>0.719930</td>\n",
       "      <td>-0.350614</td>\n",
       "      <td>...</td>\n",
       "      <td>-0.058621</td>\n",
       "      <td>-0.058621</td>\n",
       "      <td>-0.301962</td>\n",
       "      <td>-0.045376</td>\n",
       "      <td>0.390293</td>\n",
       "      <td>-0.052414</td>\n",
       "      <td>-0.091035</td>\n",
       "      <td>-0.117851</td>\n",
       "      <td>0.467651</td>\n",
       "      <td>-0.305995</td>\n",
       "    </tr>\n",
       "    <tr>\n",
       "      <th>1</th>\n",
       "      <td>-1.082732</td>\n",
       "      <td>0.511672</td>\n",
       "      <td>0.092318</td>\n",
       "      <td>-0.071836</td>\n",
       "      <td>2.139816</td>\n",
       "      <td>0.156734</td>\n",
       "      <td>-0.429577</td>\n",
       "      <td>-0.746843</td>\n",
       "      <td>1.180078</td>\n",
       "      <td>-0.350614</td>\n",
       "      <td>...</td>\n",
       "      <td>-0.058621</td>\n",
       "      <td>-0.058621</td>\n",
       "      <td>-0.301962</td>\n",
       "      <td>-0.045376</td>\n",
       "      <td>0.390293</td>\n",
       "      <td>-0.052414</td>\n",
       "      <td>-0.091035</td>\n",
       "      <td>-0.117851</td>\n",
       "      <td>0.467651</td>\n",
       "      <td>-0.305995</td>\n",
       "    </tr>\n",
       "    <tr>\n",
       "      <th>2</th>\n",
       "      <td>0.355302</td>\n",
       "      <td>-0.026864</td>\n",
       "      <td>0.402137</td>\n",
       "      <td>0.651479</td>\n",
       "      <td>-0.508682</td>\n",
       "      <td>0.984752</td>\n",
       "      <td>0.830215</td>\n",
       "      <td>0.869851</td>\n",
       "      <td>0.302210</td>\n",
       "      <td>-0.350614</td>\n",
       "      <td>...</td>\n",
       "      <td>-0.058621</td>\n",
       "      <td>-0.058621</td>\n",
       "      <td>-0.301962</td>\n",
       "      <td>-0.045376</td>\n",
       "      <td>0.390293</td>\n",
       "      <td>-0.052414</td>\n",
       "      <td>-0.091035</td>\n",
       "      <td>-0.117851</td>\n",
       "      <td>0.467651</td>\n",
       "      <td>-0.305995</td>\n",
       "    </tr>\n",
       "    <tr>\n",
       "      <th>3</th>\n",
       "      <td>0.587248</td>\n",
       "      <td>-0.411783</td>\n",
       "      <td>0.082186</td>\n",
       "      <td>0.651479</td>\n",
       "      <td>-0.508682</td>\n",
       "      <td>-1.863632</td>\n",
       "      <td>-0.720298</td>\n",
       "      <td>-0.746843</td>\n",
       "      <td>-0.314485</td>\n",
       "      <td>-0.350614</td>\n",
       "      <td>...</td>\n",
       "      <td>-0.058621</td>\n",
       "      <td>-0.058621</td>\n",
       "      <td>-0.301962</td>\n",
       "      <td>-0.045376</td>\n",
       "      <td>0.390293</td>\n",
       "      <td>-0.052414</td>\n",
       "      <td>-0.091035</td>\n",
       "      <td>-0.117851</td>\n",
       "      <td>-2.138345</td>\n",
       "      <td>-0.305995</td>\n",
       "    </tr>\n",
       "    <tr>\n",
       "      <th>4</th>\n",
       "      <td>0.355302</td>\n",
       "      <td>0.682386</td>\n",
       "      <td>0.872886</td>\n",
       "      <td>1.374795</td>\n",
       "      <td>-0.508682</td>\n",
       "      <td>0.951632</td>\n",
       "      <td>0.733308</td>\n",
       "      <td>1.555512</td>\n",
       "      <td>0.627495</td>\n",
       "      <td>-0.350614</td>\n",
       "      <td>...</td>\n",
       "      <td>-0.058621</td>\n",
       "      <td>-0.058621</td>\n",
       "      <td>-0.301962</td>\n",
       "      <td>-0.045376</td>\n",
       "      <td>0.390293</td>\n",
       "      <td>-0.052414</td>\n",
       "      <td>-0.091035</td>\n",
       "      <td>-0.117851</td>\n",
       "      <td>0.467651</td>\n",
       "      <td>-0.305995</td>\n",
       "    </tr>\n",
       "  </tbody>\n",
       "</table>\n",
       "<p>5 rows × 250 columns</p>\n",
       "</div>"
      ],
      "text/plain": [
       "  MSSubClass LotFrontage   LotArea OverallQual OverallCond YearBuilt  \\\n",
       "0   0.355302   -0.168513 -0.154007    0.651479   -0.508682  1.050994   \n",
       "1  -1.082732    0.511672  0.092318   -0.071836    2.139816  0.156734   \n",
       "2   0.355302   -0.026864  0.402137    0.651479   -0.508682  0.984752   \n",
       "3   0.587248   -0.411783  0.082186    0.651479   -0.508682 -1.863632   \n",
       "4   0.355302    0.682386  0.872886    1.374795   -0.508682  0.951632   \n",
       "\n",
       "  YearRemodAdd MasVnrArea BsmtFinSF1 BsmtFinSF2  ... SaleType_ConLI  \\\n",
       "0     0.878668   1.019595   0.719930  -0.350614  ...      -0.058621   \n",
       "1    -0.429577  -0.746843   1.180078  -0.350614  ...      -0.058621   \n",
       "2     0.830215   0.869851   0.302210  -0.350614  ...      -0.058621   \n",
       "3    -0.720298  -0.746843  -0.314485  -0.350614  ...      -0.058621   \n",
       "4     0.733308   1.555512   0.627495  -0.350614  ...      -0.058621   \n",
       "\n",
       "  SaleType_ConLw SaleType_New SaleType_Oth SaleType_WD SaleCondition_AdjLand  \\\n",
       "0      -0.058621    -0.301962    -0.045376    0.390293             -0.052414   \n",
       "1      -0.058621    -0.301962    -0.045376    0.390293             -0.052414   \n",
       "2      -0.058621    -0.301962    -0.045376    0.390293             -0.052414   \n",
       "3      -0.058621    -0.301962    -0.045376    0.390293             -0.052414   \n",
       "4      -0.058621    -0.301962    -0.045376    0.390293             -0.052414   \n",
       "\n",
       "  SaleCondition_Alloca SaleCondition_Family SaleCondition_Normal  \\\n",
       "0            -0.091035            -0.117851             0.467651   \n",
       "1            -0.091035            -0.117851             0.467651   \n",
       "2            -0.091035            -0.117851             0.467651   \n",
       "3            -0.091035            -0.117851            -2.138345   \n",
       "4            -0.091035            -0.117851             0.467651   \n",
       "\n",
       "  SaleCondition_Partial  \n",
       "0             -0.305995  \n",
       "1             -0.305995  \n",
       "2             -0.305995  \n",
       "3             -0.305995  \n",
       "4             -0.305995  \n",
       "\n",
       "[5 rows x 250 columns]"
      ]
     },
     "execution_count": 158,
     "metadata": {},
     "output_type": "execute_result"
    }
   ],
   "source": [
    "train_X.head()"
   ]
  },
  {
   "cell_type": "code",
   "execution_count": 159,
   "metadata": {
    "ExecuteTime": {
     "end_time": "2020-07-20T21:11:40.855163Z",
     "start_time": "2020-07-20T21:11:40.729080Z"
    }
   },
   "outputs": [
    {
     "data": {
      "text/html": [
       "<div>\n",
       "<style scoped>\n",
       "    .dataframe tbody tr th:only-of-type {\n",
       "        vertical-align: middle;\n",
       "    }\n",
       "\n",
       "    .dataframe tbody tr th {\n",
       "        vertical-align: top;\n",
       "    }\n",
       "\n",
       "    .dataframe thead tr th {\n",
       "        text-align: left;\n",
       "    }\n",
       "</style>\n",
       "<table border=\"1\" class=\"dataframe\">\n",
       "  <thead>\n",
       "    <tr>\n",
       "      <th></th>\n",
       "      <th>MSSubClass</th>\n",
       "      <th>LotFrontage</th>\n",
       "      <th>LotArea</th>\n",
       "      <th>OverallQual</th>\n",
       "      <th>OverallCond</th>\n",
       "      <th>YearBuilt</th>\n",
       "      <th>YearRemodAdd</th>\n",
       "      <th>MasVnrArea</th>\n",
       "      <th>BsmtFinSF1</th>\n",
       "      <th>BsmtFinSF2</th>\n",
       "      <th>...</th>\n",
       "      <th>SaleType_ConLI</th>\n",
       "      <th>SaleType_ConLw</th>\n",
       "      <th>SaleType_New</th>\n",
       "      <th>SaleType_Oth</th>\n",
       "      <th>SaleType_WD</th>\n",
       "      <th>SaleCondition_AdjLand</th>\n",
       "      <th>SaleCondition_Alloca</th>\n",
       "      <th>SaleCondition_Family</th>\n",
       "      <th>SaleCondition_Normal</th>\n",
       "      <th>SaleCondition_Partial</th>\n",
       "    </tr>\n",
       "  </thead>\n",
       "  <tbody>\n",
       "    <tr>\n",
       "      <th>0</th>\n",
       "      <td>-1.075957</td>\n",
       "      <td>0.571915</td>\n",
       "      <td>0.557156</td>\n",
       "      <td>-0.751101</td>\n",
       "      <td>0.415442</td>\n",
       "      <td>-0.340945</td>\n",
       "      <td>-1.072885</td>\n",
       "      <td>-0.724864</td>\n",
       "      <td>0.276201</td>\n",
       "      <td>1.979078</td>\n",
       "      <td>...</td>\n",
       "      <td>-0.052432</td>\n",
       "      <td>-0.045392</td>\n",
       "      <td>-0.295268</td>\n",
       "      <td>-0.052432</td>\n",
       "      <td>0.398568</td>\n",
       "      <td>-0.074253</td>\n",
       "      <td>-0.091066</td>\n",
       "      <td>-0.134699</td>\n",
       "      <td>0.460211</td>\n",
       "      <td>-0.299365</td>\n",
       "    </tr>\n",
       "    <tr>\n",
       "      <th>1</th>\n",
       "      <td>-1.075957</td>\n",
       "      <td>0.615176</td>\n",
       "      <td>0.986010</td>\n",
       "      <td>-0.054877</td>\n",
       "      <td>0.415442</td>\n",
       "      <td>-0.439695</td>\n",
       "      <td>-1.214908</td>\n",
       "      <td>0.618599</td>\n",
       "      <td>1.098604</td>\n",
       "      <td>-0.364041</td>\n",
       "      <td>...</td>\n",
       "      <td>-0.052432</td>\n",
       "      <td>-0.045392</td>\n",
       "      <td>-0.295268</td>\n",
       "      <td>-0.052432</td>\n",
       "      <td>0.398568</td>\n",
       "      <td>-0.074253</td>\n",
       "      <td>-0.091066</td>\n",
       "      <td>-0.134699</td>\n",
       "      <td>0.460211</td>\n",
       "      <td>-0.299365</td>\n",
       "    </tr>\n",
       "    <tr>\n",
       "      <th>2</th>\n",
       "      <td>0.344406</td>\n",
       "      <td>0.306673</td>\n",
       "      <td>0.920480</td>\n",
       "      <td>-0.751101</td>\n",
       "      <td>-0.484916</td>\n",
       "      <td>0.844059</td>\n",
       "      <td>0.678742</td>\n",
       "      <td>-0.724864</td>\n",
       "      <td>0.877736</td>\n",
       "      <td>-0.364041</td>\n",
       "      <td>...</td>\n",
       "      <td>-0.052432</td>\n",
       "      <td>-0.045392</td>\n",
       "      <td>-0.295268</td>\n",
       "      <td>-0.052432</td>\n",
       "      <td>0.398568</td>\n",
       "      <td>-0.074253</td>\n",
       "      <td>-0.091066</td>\n",
       "      <td>-0.134699</td>\n",
       "      <td>0.460211</td>\n",
       "      <td>-0.299365</td>\n",
       "    </tr>\n",
       "    <tr>\n",
       "      <th>3</th>\n",
       "      <td>0.344406</td>\n",
       "      <td>0.484603</td>\n",
       "      <td>0.242838</td>\n",
       "      <td>-0.054877</td>\n",
       "      <td>0.415442</td>\n",
       "      <td>0.876976</td>\n",
       "      <td>0.678742</td>\n",
       "      <td>-0.155614</td>\n",
       "      <td>0.538612</td>\n",
       "      <td>-0.364041</td>\n",
       "      <td>...</td>\n",
       "      <td>-0.052432</td>\n",
       "      <td>-0.045392</td>\n",
       "      <td>-0.295268</td>\n",
       "      <td>-0.052432</td>\n",
       "      <td>0.398568</td>\n",
       "      <td>-0.074253</td>\n",
       "      <td>-0.091066</td>\n",
       "      <td>-0.134699</td>\n",
       "      <td>0.460211</td>\n",
       "      <td>-0.299365</td>\n",
       "    </tr>\n",
       "    <tr>\n",
       "      <th>4</th>\n",
       "      <td>1.437935</td>\n",
       "      <td>-1.270678</td>\n",
       "      <td>-1.130695</td>\n",
       "      <td>1.337571</td>\n",
       "      <td>-0.484916</td>\n",
       "      <td>0.679475</td>\n",
       "      <td>0.394694</td>\n",
       "      <td>-0.724864</td>\n",
       "      <td>-0.181576</td>\n",
       "      <td>-0.364041</td>\n",
       "      <td>...</td>\n",
       "      <td>-0.052432</td>\n",
       "      <td>-0.045392</td>\n",
       "      <td>-0.295268</td>\n",
       "      <td>-0.052432</td>\n",
       "      <td>0.398568</td>\n",
       "      <td>-0.074253</td>\n",
       "      <td>-0.091066</td>\n",
       "      <td>-0.134699</td>\n",
       "      <td>0.460211</td>\n",
       "      <td>-0.299365</td>\n",
       "    </tr>\n",
       "  </tbody>\n",
       "</table>\n",
       "<p>5 rows × 250 columns</p>\n",
       "</div>"
      ],
      "text/plain": [
       "  MSSubClass LotFrontage   LotArea OverallQual OverallCond YearBuilt  \\\n",
       "0  -1.075957    0.571915  0.557156   -0.751101    0.415442 -0.340945   \n",
       "1  -1.075957    0.615176  0.986010   -0.054877    0.415442 -0.439695   \n",
       "2   0.344406    0.306673  0.920480   -0.751101   -0.484916  0.844059   \n",
       "3   0.344406    0.484603  0.242838   -0.054877    0.415442  0.876976   \n",
       "4   1.437935   -1.270678 -1.130695    1.337571   -0.484916  0.679475   \n",
       "\n",
       "  YearRemodAdd MasVnrArea BsmtFinSF1 BsmtFinSF2  ... SaleType_ConLI  \\\n",
       "0    -1.072885  -0.724864   0.276201   1.979078  ...      -0.052432   \n",
       "1    -1.214908   0.618599   1.098604  -0.364041  ...      -0.052432   \n",
       "2     0.678742  -0.724864   0.877736  -0.364041  ...      -0.052432   \n",
       "3     0.678742  -0.155614   0.538612  -0.364041  ...      -0.052432   \n",
       "4     0.394694  -0.724864  -0.181576  -0.364041  ...      -0.052432   \n",
       "\n",
       "  SaleType_ConLw SaleType_New SaleType_Oth SaleType_WD SaleCondition_AdjLand  \\\n",
       "0      -0.045392    -0.295268    -0.052432    0.398568             -0.074253   \n",
       "1      -0.045392    -0.295268    -0.052432    0.398568             -0.074253   \n",
       "2      -0.045392    -0.295268    -0.052432    0.398568             -0.074253   \n",
       "3      -0.045392    -0.295268    -0.052432    0.398568             -0.074253   \n",
       "4      -0.045392    -0.295268    -0.052432    0.398568             -0.074253   \n",
       "\n",
       "  SaleCondition_Alloca SaleCondition_Family SaleCondition_Normal  \\\n",
       "0            -0.091066            -0.134699             0.460211   \n",
       "1            -0.091066            -0.134699             0.460211   \n",
       "2            -0.091066            -0.134699             0.460211   \n",
       "3            -0.091066            -0.134699             0.460211   \n",
       "4            -0.091066            -0.134699             0.460211   \n",
       "\n",
       "  SaleCondition_Partial  \n",
       "0             -0.299365  \n",
       "1             -0.299365  \n",
       "2             -0.299365  \n",
       "3             -0.299365  \n",
       "4             -0.299365  \n",
       "\n",
       "[5 rows x 250 columns]"
      ]
     },
     "execution_count": 159,
     "metadata": {},
     "output_type": "execute_result"
    }
   ],
   "source": [
    "test_X.head()"
   ]
  },
  {
   "cell_type": "markdown",
   "metadata": {
    "ExecuteTime": {
     "end_time": "2020-07-20T21:10:05.084198Z",
     "start_time": "2020-07-20T21:10:05.074195Z"
    }
   },
   "source": [
    "<h3>Scaling the data.<h3>"
   ]
  },
  {
   "cell_type": "code",
   "execution_count": 33,
   "metadata": {
    "ExecuteTime": {
     "end_time": "2020-07-21T14:23:08.208368Z",
     "start_time": "2020-07-21T14:23:08.104364Z"
    }
   },
   "outputs": [],
   "source": [
    "sc_train = StandardScaler()\n",
    "train_X=sc_train.fit_transform(train_X)\n",
    "sc_test = StandardScaler()\n",
    "test_X= sc_test.fit_transform(test_X)\n",
    "sc_output = StandardScaler()\n",
    "y = sc_output.fit_transform(output_var.values.reshape(-1,1))\n",
    "train_X = pd.DataFrame(train_X,columns=[combined.columns])\n",
    "test_X = pd.DataFrame(test_X,columns=[combined.columns])"
   ]
  },
  {
   "cell_type": "code",
   "execution_count": 155,
   "metadata": {
    "ExecuteTime": {
     "end_time": "2020-07-20T21:10:54.447841Z",
     "start_time": "2020-07-20T21:10:54.424827Z"
    }
   },
   "outputs": [
    {
     "name": "stdout",
     "output_type": "stream",
     "text": [
      "(1460, 74) (1459, 74)\n"
     ]
    }
   ],
   "source": [
    "print(train.shape,test.shape)"
   ]
  },
  {
   "cell_type": "code",
   "execution_count": 156,
   "metadata": {
    "ExecuteTime": {
     "end_time": "2020-07-20T21:11:04.724387Z",
     "start_time": "2020-07-20T21:11:04.555273Z"
    }
   },
   "outputs": [
    {
     "data": {
      "text/html": [
       "<div>\n",
       "<style scoped>\n",
       "    .dataframe tbody tr th:only-of-type {\n",
       "        vertical-align: middle;\n",
       "    }\n",
       "\n",
       "    .dataframe tbody tr th {\n",
       "        vertical-align: top;\n",
       "    }\n",
       "\n",
       "    .dataframe thead tr th {\n",
       "        text-align: left;\n",
       "    }\n",
       "</style>\n",
       "<table border=\"1\" class=\"dataframe\">\n",
       "  <thead>\n",
       "    <tr>\n",
       "      <th></th>\n",
       "      <th>MSSubClass</th>\n",
       "      <th>LotFrontage</th>\n",
       "      <th>LotArea</th>\n",
       "      <th>OverallQual</th>\n",
       "      <th>OverallCond</th>\n",
       "      <th>YearBuilt</th>\n",
       "      <th>YearRemodAdd</th>\n",
       "      <th>MasVnrArea</th>\n",
       "      <th>BsmtFinSF1</th>\n",
       "      <th>BsmtFinSF2</th>\n",
       "      <th>...</th>\n",
       "      <th>SaleType_ConLI</th>\n",
       "      <th>SaleType_ConLw</th>\n",
       "      <th>SaleType_New</th>\n",
       "      <th>SaleType_Oth</th>\n",
       "      <th>SaleType_WD</th>\n",
       "      <th>SaleCondition_AdjLand</th>\n",
       "      <th>SaleCondition_Alloca</th>\n",
       "      <th>SaleCondition_Family</th>\n",
       "      <th>SaleCondition_Normal</th>\n",
       "      <th>SaleCondition_Partial</th>\n",
       "    </tr>\n",
       "  </thead>\n",
       "  <tbody>\n",
       "    <tr>\n",
       "      <th>0</th>\n",
       "      <td>0.355302</td>\n",
       "      <td>-0.168513</td>\n",
       "      <td>-0.154007</td>\n",
       "      <td>0.651479</td>\n",
       "      <td>-0.508682</td>\n",
       "      <td>1.050994</td>\n",
       "      <td>0.878668</td>\n",
       "      <td>1.019595</td>\n",
       "      <td>0.719930</td>\n",
       "      <td>-0.350614</td>\n",
       "      <td>...</td>\n",
       "      <td>-0.058621</td>\n",
       "      <td>-0.058621</td>\n",
       "      <td>-0.301962</td>\n",
       "      <td>-0.045376</td>\n",
       "      <td>0.390293</td>\n",
       "      <td>-0.052414</td>\n",
       "      <td>-0.091035</td>\n",
       "      <td>-0.117851</td>\n",
       "      <td>0.467651</td>\n",
       "      <td>-0.305995</td>\n",
       "    </tr>\n",
       "    <tr>\n",
       "      <th>1</th>\n",
       "      <td>-1.082732</td>\n",
       "      <td>0.511672</td>\n",
       "      <td>0.092318</td>\n",
       "      <td>-0.071836</td>\n",
       "      <td>2.139816</td>\n",
       "      <td>0.156734</td>\n",
       "      <td>-0.429577</td>\n",
       "      <td>-0.746843</td>\n",
       "      <td>1.180078</td>\n",
       "      <td>-0.350614</td>\n",
       "      <td>...</td>\n",
       "      <td>-0.058621</td>\n",
       "      <td>-0.058621</td>\n",
       "      <td>-0.301962</td>\n",
       "      <td>-0.045376</td>\n",
       "      <td>0.390293</td>\n",
       "      <td>-0.052414</td>\n",
       "      <td>-0.091035</td>\n",
       "      <td>-0.117851</td>\n",
       "      <td>0.467651</td>\n",
       "      <td>-0.305995</td>\n",
       "    </tr>\n",
       "    <tr>\n",
       "      <th>2</th>\n",
       "      <td>0.355302</td>\n",
       "      <td>-0.026864</td>\n",
       "      <td>0.402137</td>\n",
       "      <td>0.651479</td>\n",
       "      <td>-0.508682</td>\n",
       "      <td>0.984752</td>\n",
       "      <td>0.830215</td>\n",
       "      <td>0.869851</td>\n",
       "      <td>0.302210</td>\n",
       "      <td>-0.350614</td>\n",
       "      <td>...</td>\n",
       "      <td>-0.058621</td>\n",
       "      <td>-0.058621</td>\n",
       "      <td>-0.301962</td>\n",
       "      <td>-0.045376</td>\n",
       "      <td>0.390293</td>\n",
       "      <td>-0.052414</td>\n",
       "      <td>-0.091035</td>\n",
       "      <td>-0.117851</td>\n",
       "      <td>0.467651</td>\n",
       "      <td>-0.305995</td>\n",
       "    </tr>\n",
       "    <tr>\n",
       "      <th>3</th>\n",
       "      <td>0.587248</td>\n",
       "      <td>-0.411783</td>\n",
       "      <td>0.082186</td>\n",
       "      <td>0.651479</td>\n",
       "      <td>-0.508682</td>\n",
       "      <td>-1.863632</td>\n",
       "      <td>-0.720298</td>\n",
       "      <td>-0.746843</td>\n",
       "      <td>-0.314485</td>\n",
       "      <td>-0.350614</td>\n",
       "      <td>...</td>\n",
       "      <td>-0.058621</td>\n",
       "      <td>-0.058621</td>\n",
       "      <td>-0.301962</td>\n",
       "      <td>-0.045376</td>\n",
       "      <td>0.390293</td>\n",
       "      <td>-0.052414</td>\n",
       "      <td>-0.091035</td>\n",
       "      <td>-0.117851</td>\n",
       "      <td>-2.138345</td>\n",
       "      <td>-0.305995</td>\n",
       "    </tr>\n",
       "    <tr>\n",
       "      <th>4</th>\n",
       "      <td>0.355302</td>\n",
       "      <td>0.682386</td>\n",
       "      <td>0.872886</td>\n",
       "      <td>1.374795</td>\n",
       "      <td>-0.508682</td>\n",
       "      <td>0.951632</td>\n",
       "      <td>0.733308</td>\n",
       "      <td>1.555512</td>\n",
       "      <td>0.627495</td>\n",
       "      <td>-0.350614</td>\n",
       "      <td>...</td>\n",
       "      <td>-0.058621</td>\n",
       "      <td>-0.058621</td>\n",
       "      <td>-0.301962</td>\n",
       "      <td>-0.045376</td>\n",
       "      <td>0.390293</td>\n",
       "      <td>-0.052414</td>\n",
       "      <td>-0.091035</td>\n",
       "      <td>-0.117851</td>\n",
       "      <td>0.467651</td>\n",
       "      <td>-0.305995</td>\n",
       "    </tr>\n",
       "  </tbody>\n",
       "</table>\n",
       "<p>5 rows × 250 columns</p>\n",
       "</div>"
      ],
      "text/plain": [
       "  MSSubClass LotFrontage   LotArea OverallQual OverallCond YearBuilt  \\\n",
       "0   0.355302   -0.168513 -0.154007    0.651479   -0.508682  1.050994   \n",
       "1  -1.082732    0.511672  0.092318   -0.071836    2.139816  0.156734   \n",
       "2   0.355302   -0.026864  0.402137    0.651479   -0.508682  0.984752   \n",
       "3   0.587248   -0.411783  0.082186    0.651479   -0.508682 -1.863632   \n",
       "4   0.355302    0.682386  0.872886    1.374795   -0.508682  0.951632   \n",
       "\n",
       "  YearRemodAdd MasVnrArea BsmtFinSF1 BsmtFinSF2  ... SaleType_ConLI  \\\n",
       "0     0.878668   1.019595   0.719930  -0.350614  ...      -0.058621   \n",
       "1    -0.429577  -0.746843   1.180078  -0.350614  ...      -0.058621   \n",
       "2     0.830215   0.869851   0.302210  -0.350614  ...      -0.058621   \n",
       "3    -0.720298  -0.746843  -0.314485  -0.350614  ...      -0.058621   \n",
       "4     0.733308   1.555512   0.627495  -0.350614  ...      -0.058621   \n",
       "\n",
       "  SaleType_ConLw SaleType_New SaleType_Oth SaleType_WD SaleCondition_AdjLand  \\\n",
       "0      -0.058621    -0.301962    -0.045376    0.390293             -0.052414   \n",
       "1      -0.058621    -0.301962    -0.045376    0.390293             -0.052414   \n",
       "2      -0.058621    -0.301962    -0.045376    0.390293             -0.052414   \n",
       "3      -0.058621    -0.301962    -0.045376    0.390293             -0.052414   \n",
       "4      -0.058621    -0.301962    -0.045376    0.390293             -0.052414   \n",
       "\n",
       "  SaleCondition_Alloca SaleCondition_Family SaleCondition_Normal  \\\n",
       "0            -0.091035            -0.117851             0.467651   \n",
       "1            -0.091035            -0.117851             0.467651   \n",
       "2            -0.091035            -0.117851             0.467651   \n",
       "3            -0.091035            -0.117851            -2.138345   \n",
       "4            -0.091035            -0.117851             0.467651   \n",
       "\n",
       "  SaleCondition_Partial  \n",
       "0             -0.305995  \n",
       "1             -0.305995  \n",
       "2             -0.305995  \n",
       "3             -0.305995  \n",
       "4             -0.305995  \n",
       "\n",
       "[5 rows x 250 columns]"
      ]
     },
     "execution_count": 156,
     "metadata": {},
     "output_type": "execute_result"
    }
   ],
   "source": [
    "train_X.head()"
   ]
  },
  {
   "cell_type": "code",
   "execution_count": 157,
   "metadata": {
    "ExecuteTime": {
     "end_time": "2020-07-20T21:11:07.587290Z",
     "start_time": "2020-07-20T21:11:07.438193Z"
    }
   },
   "outputs": [
    {
     "data": {
      "text/html": [
       "<div>\n",
       "<style scoped>\n",
       "    .dataframe tbody tr th:only-of-type {\n",
       "        vertical-align: middle;\n",
       "    }\n",
       "\n",
       "    .dataframe tbody tr th {\n",
       "        vertical-align: top;\n",
       "    }\n",
       "\n",
       "    .dataframe thead tr th {\n",
       "        text-align: left;\n",
       "    }\n",
       "</style>\n",
       "<table border=\"1\" class=\"dataframe\">\n",
       "  <thead>\n",
       "    <tr>\n",
       "      <th></th>\n",
       "      <th>MSSubClass</th>\n",
       "      <th>LotFrontage</th>\n",
       "      <th>LotArea</th>\n",
       "      <th>OverallQual</th>\n",
       "      <th>OverallCond</th>\n",
       "      <th>YearBuilt</th>\n",
       "      <th>YearRemodAdd</th>\n",
       "      <th>MasVnrArea</th>\n",
       "      <th>BsmtFinSF1</th>\n",
       "      <th>BsmtFinSF2</th>\n",
       "      <th>...</th>\n",
       "      <th>SaleType_ConLI</th>\n",
       "      <th>SaleType_ConLw</th>\n",
       "      <th>SaleType_New</th>\n",
       "      <th>SaleType_Oth</th>\n",
       "      <th>SaleType_WD</th>\n",
       "      <th>SaleCondition_AdjLand</th>\n",
       "      <th>SaleCondition_Alloca</th>\n",
       "      <th>SaleCondition_Family</th>\n",
       "      <th>SaleCondition_Normal</th>\n",
       "      <th>SaleCondition_Partial</th>\n",
       "    </tr>\n",
       "  </thead>\n",
       "  <tbody>\n",
       "    <tr>\n",
       "      <th>0</th>\n",
       "      <td>-1.075957</td>\n",
       "      <td>0.571915</td>\n",
       "      <td>0.557156</td>\n",
       "      <td>-0.751101</td>\n",
       "      <td>0.415442</td>\n",
       "      <td>-0.340945</td>\n",
       "      <td>-1.072885</td>\n",
       "      <td>-0.724864</td>\n",
       "      <td>0.276201</td>\n",
       "      <td>1.979078</td>\n",
       "      <td>...</td>\n",
       "      <td>-0.052432</td>\n",
       "      <td>-0.045392</td>\n",
       "      <td>-0.295268</td>\n",
       "      <td>-0.052432</td>\n",
       "      <td>0.398568</td>\n",
       "      <td>-0.074253</td>\n",
       "      <td>-0.091066</td>\n",
       "      <td>-0.134699</td>\n",
       "      <td>0.460211</td>\n",
       "      <td>-0.299365</td>\n",
       "    </tr>\n",
       "    <tr>\n",
       "      <th>1</th>\n",
       "      <td>-1.075957</td>\n",
       "      <td>0.615176</td>\n",
       "      <td>0.986010</td>\n",
       "      <td>-0.054877</td>\n",
       "      <td>0.415442</td>\n",
       "      <td>-0.439695</td>\n",
       "      <td>-1.214908</td>\n",
       "      <td>0.618599</td>\n",
       "      <td>1.098604</td>\n",
       "      <td>-0.364041</td>\n",
       "      <td>...</td>\n",
       "      <td>-0.052432</td>\n",
       "      <td>-0.045392</td>\n",
       "      <td>-0.295268</td>\n",
       "      <td>-0.052432</td>\n",
       "      <td>0.398568</td>\n",
       "      <td>-0.074253</td>\n",
       "      <td>-0.091066</td>\n",
       "      <td>-0.134699</td>\n",
       "      <td>0.460211</td>\n",
       "      <td>-0.299365</td>\n",
       "    </tr>\n",
       "    <tr>\n",
       "      <th>2</th>\n",
       "      <td>0.344406</td>\n",
       "      <td>0.306673</td>\n",
       "      <td>0.920480</td>\n",
       "      <td>-0.751101</td>\n",
       "      <td>-0.484916</td>\n",
       "      <td>0.844059</td>\n",
       "      <td>0.678742</td>\n",
       "      <td>-0.724864</td>\n",
       "      <td>0.877736</td>\n",
       "      <td>-0.364041</td>\n",
       "      <td>...</td>\n",
       "      <td>-0.052432</td>\n",
       "      <td>-0.045392</td>\n",
       "      <td>-0.295268</td>\n",
       "      <td>-0.052432</td>\n",
       "      <td>0.398568</td>\n",
       "      <td>-0.074253</td>\n",
       "      <td>-0.091066</td>\n",
       "      <td>-0.134699</td>\n",
       "      <td>0.460211</td>\n",
       "      <td>-0.299365</td>\n",
       "    </tr>\n",
       "    <tr>\n",
       "      <th>3</th>\n",
       "      <td>0.344406</td>\n",
       "      <td>0.484603</td>\n",
       "      <td>0.242838</td>\n",
       "      <td>-0.054877</td>\n",
       "      <td>0.415442</td>\n",
       "      <td>0.876976</td>\n",
       "      <td>0.678742</td>\n",
       "      <td>-0.155614</td>\n",
       "      <td>0.538612</td>\n",
       "      <td>-0.364041</td>\n",
       "      <td>...</td>\n",
       "      <td>-0.052432</td>\n",
       "      <td>-0.045392</td>\n",
       "      <td>-0.295268</td>\n",
       "      <td>-0.052432</td>\n",
       "      <td>0.398568</td>\n",
       "      <td>-0.074253</td>\n",
       "      <td>-0.091066</td>\n",
       "      <td>-0.134699</td>\n",
       "      <td>0.460211</td>\n",
       "      <td>-0.299365</td>\n",
       "    </tr>\n",
       "    <tr>\n",
       "      <th>4</th>\n",
       "      <td>1.437935</td>\n",
       "      <td>-1.270678</td>\n",
       "      <td>-1.130695</td>\n",
       "      <td>1.337571</td>\n",
       "      <td>-0.484916</td>\n",
       "      <td>0.679475</td>\n",
       "      <td>0.394694</td>\n",
       "      <td>-0.724864</td>\n",
       "      <td>-0.181576</td>\n",
       "      <td>-0.364041</td>\n",
       "      <td>...</td>\n",
       "      <td>-0.052432</td>\n",
       "      <td>-0.045392</td>\n",
       "      <td>-0.295268</td>\n",
       "      <td>-0.052432</td>\n",
       "      <td>0.398568</td>\n",
       "      <td>-0.074253</td>\n",
       "      <td>-0.091066</td>\n",
       "      <td>-0.134699</td>\n",
       "      <td>0.460211</td>\n",
       "      <td>-0.299365</td>\n",
       "    </tr>\n",
       "  </tbody>\n",
       "</table>\n",
       "<p>5 rows × 250 columns</p>\n",
       "</div>"
      ],
      "text/plain": [
       "  MSSubClass LotFrontage   LotArea OverallQual OverallCond YearBuilt  \\\n",
       "0  -1.075957    0.571915  0.557156   -0.751101    0.415442 -0.340945   \n",
       "1  -1.075957    0.615176  0.986010   -0.054877    0.415442 -0.439695   \n",
       "2   0.344406    0.306673  0.920480   -0.751101   -0.484916  0.844059   \n",
       "3   0.344406    0.484603  0.242838   -0.054877    0.415442  0.876976   \n",
       "4   1.437935   -1.270678 -1.130695    1.337571   -0.484916  0.679475   \n",
       "\n",
       "  YearRemodAdd MasVnrArea BsmtFinSF1 BsmtFinSF2  ... SaleType_ConLI  \\\n",
       "0    -1.072885  -0.724864   0.276201   1.979078  ...      -0.052432   \n",
       "1    -1.214908   0.618599   1.098604  -0.364041  ...      -0.052432   \n",
       "2     0.678742  -0.724864   0.877736  -0.364041  ...      -0.052432   \n",
       "3     0.678742  -0.155614   0.538612  -0.364041  ...      -0.052432   \n",
       "4     0.394694  -0.724864  -0.181576  -0.364041  ...      -0.052432   \n",
       "\n",
       "  SaleType_ConLw SaleType_New SaleType_Oth SaleType_WD SaleCondition_AdjLand  \\\n",
       "0      -0.045392    -0.295268    -0.052432    0.398568             -0.074253   \n",
       "1      -0.045392    -0.295268    -0.052432    0.398568             -0.074253   \n",
       "2      -0.045392    -0.295268    -0.052432    0.398568             -0.074253   \n",
       "3      -0.045392    -0.295268    -0.052432    0.398568             -0.074253   \n",
       "4      -0.045392    -0.295268    -0.052432    0.398568             -0.074253   \n",
       "\n",
       "  SaleCondition_Alloca SaleCondition_Family SaleCondition_Normal  \\\n",
       "0            -0.091066            -0.134699             0.460211   \n",
       "1            -0.091066            -0.134699             0.460211   \n",
       "2            -0.091066            -0.134699             0.460211   \n",
       "3            -0.091066            -0.134699             0.460211   \n",
       "4            -0.091066            -0.134699             0.460211   \n",
       "\n",
       "  SaleCondition_Partial  \n",
       "0             -0.299365  \n",
       "1             -0.299365  \n",
       "2             -0.299365  \n",
       "3             -0.299365  \n",
       "4             -0.299365  \n",
       "\n",
       "[5 rows x 250 columns]"
      ]
     },
     "execution_count": 157,
     "metadata": {},
     "output_type": "execute_result"
    }
   ],
   "source": [
    "test_X.head()"
   ]
  },
  {
   "cell_type": "markdown",
   "metadata": {},
   "source": [
    "<h3>4. Feature Extraction</h3>\n",
    "<br>\n",
    "Here we are not performing athis step as our data is low and we want to learn everything to get more accuracy on test.Even 0.01 improvement in accuracyuracy is very good for us"
   ]
  },
  {
   "cell_type": "markdown",
   "metadata": {
    "ExecuteTime": {
     "end_time": "2020-07-20T21:12:16.365855Z",
     "start_time": "2020-07-20T21:12:16.356849Z"
    }
   },
   "source": [
    "<h3>5. Model Building<h3>\n",
    "Trying with Lasoo, Random Forest and Gradient Boosting "
   ]
  },
  {
   "cell_type": "code",
   "execution_count": 34,
   "metadata": {
    "ExecuteTime": {
     "end_time": "2020-07-21T14:28:57.781934Z",
     "start_time": "2020-07-21T14:28:41.171178Z"
    }
   },
   "outputs": [],
   "source": [
    "rf = RandomForestRegressor()\n",
    "rf.fit(train_X,y)\n",
    "gb = GradientBoostingRegressor()\n",
    "gb.fit(train_X,y)\n",
    "ls = Lasso()\n",
    "ls.fit(train_X,y)\n",
    "y_pred = gb.predict(test_X)\n",
    "y_pred = sc_output.inverse_transform(y_pred.reshape(-1,1))\n",
    "y_pred1 = rf.predict(test_X)\n",
    "y_pred1 = sc_output.inverse_transform(y_pred1.reshape(-1,1))\n",
    "y_pred2 = ls.predict(test_X)\n",
    "y_pred2 = sc_output.inverse_transform(y_pred2.reshape(-1,1))"
   ]
  },
  {
   "cell_type": "code",
   "execution_count": 35,
   "metadata": {
    "ExecuteTime": {
     "end_time": "2020-07-21T14:29:01.815317Z",
     "start_time": "2020-07-21T14:29:01.535311Z"
    }
   },
   "outputs": [],
   "source": [
    "output = pd.DataFrame()\n",
    "output['Id'] = test_copy['Id']\n",
    "output['SalePrice'] = y_pred\n",
    "output.to_csv('GB',index=False)\n",
    "output['SalePrice'] = y_pred1\n",
    "output.to_csv('RF',index=False)\n",
    "output['SalePrice'] = y_pred2\n",
    "output.to_csv('Lasso',index=False)"
   ]
  },
  {
   "cell_type": "markdown",
   "metadata": {},
   "source": [
    "<h4>Root mean square error from different algos</h4>\n",
    "<ol><li>Gradient Boosting: 0.138</li>\n",
    "<li>Random Forest:0.147</li>\n",
    "<li>Lasso: 0.42</li>\n",
    "</ol>"
   ]
  },
  {
   "cell_type": "markdown",
   "metadata": {
    "ExecuteTime": {
     "end_time": "2020-07-21T14:34:14.420889Z",
     "start_time": "2020-07-21T14:34:14.404887Z"
    }
   },
   "source": [
    "<h3>Model Tuning using GridsearchCV</h3>"
   ]
  },
  {
   "cell_type": "markdown",
   "metadata": {},
   "source": [
    "<h4>Tuning Random Forest</h4>"
   ]
  },
  {
   "cell_type": "code",
   "execution_count": null,
   "metadata": {
    "ExecuteTime": {
     "end_time": "2020-07-14T19:17:40.043288Z",
     "start_time": "2020-07-14T19:06:36.187104Z"
    }
   },
   "outputs": [],
   "source": [
    "folds = KFold(n_splits=5,shuffle=True,random_state=7)\n",
    "\n",
    "rf = RandomForestRegressor()\n",
    "hyper_params_rf = [{\n",
    "    'n_estimators':[10,50,100,500],\n",
    "    'min_samples_split':[2,3,4,5],\n",
    "    'max_depth':[2,5,7,100]\n",
    "}]\n",
    "model_rf = GridSearchCV(estimator=rf,\n",
    "                       param_grid = hyper_params_rf,\n",
    "                       scoring ='neg_mean_squared_error',\n",
    "                       cv = folds,\n",
    "                       verbose=1,\n",
    "                       return_train_score=True,\n",
    "                       n_jobs=16)\n",
    "model_rf.fit(train_X,y)\n",
    "model_rf.best_params_"
   ]
  },
  {
   "cell_type": "code",
   "execution_count": 37,
   "metadata": {
    "ExecuteTime": {
     "end_time": "2020-07-21T14:37:53.808332Z",
     "start_time": "2020-07-21T14:37:43.741037Z"
    }
   },
   "outputs": [
    {
     "data": {
      "text/plain": [
       "RandomForestRegressor(bootstrap=True, ccp_alpha=0.0, criterion='mse',\n",
       "                      max_depth=100, max_features='auto', max_leaf_nodes=None,\n",
       "                      max_samples=None, min_impurity_decrease=0.0,\n",
       "                      min_impurity_split=None, min_samples_leaf=1,\n",
       "                      min_samples_split=4, min_weight_fraction_leaf=0.0,\n",
       "                      n_estimators=100, n_jobs=None, oob_score=False,\n",
       "                      random_state=None, verbose=0, warm_start=False)"
      ]
     },
     "execution_count": 37,
     "metadata": {},
     "output_type": "execute_result"
    }
   ],
   "source": [
    "rf = RandomForestRegressor(max_depth=100,min_samples_split=4,n_estimators=100)\n",
    "rf.fit(train_X,y)"
   ]
  },
  {
   "cell_type": "code",
   "execution_count": 38,
   "metadata": {
    "ExecuteTime": {
     "end_time": "2020-07-21T14:38:39.791529Z",
     "start_time": "2020-07-21T14:38:39.663520Z"
    }
   },
   "outputs": [],
   "source": [
    "y_pred = rf.predict(test_X)\n",
    "y_pred = sc_output.inverse_transform(y_pred.reshape(-1,1))\n",
    "output['SalePrice'] = y_pred\n",
    "output.to_csv('RF',index=False)"
   ]
  },
  {
   "cell_type": "markdown",
   "metadata": {
    "ExecuteTime": {
     "end_time": "2020-07-14T19:24:15.506997Z",
     "start_time": "2020-07-14T19:24:15.499995Z"
    }
   },
   "source": [
    "After tuning Random Forest It gave us root mean square of around 0.144 which is better than previous run"
   ]
  },
  {
   "cell_type": "markdown",
   "metadata": {
    "ExecuteTime": {
     "end_time": "2020-07-21T14:47:26.612337Z",
     "start_time": "2020-07-21T14:47:26.596342Z"
    }
   },
   "source": [
    "<h4>Tuning GradientBoostingRegressor</h4>"
   ]
  },
  {
   "cell_type": "code",
   "execution_count": 72,
   "metadata": {
    "ExecuteTime": {
     "end_time": "2020-07-15T10:13:18.851944Z",
     "start_time": "2020-07-15T09:20:38.930311Z"
    }
   },
   "outputs": [
    {
     "name": "stdout",
     "output_type": "stream",
     "text": [
      "Fitting 2 folds for each of 1920 candidates, totalling 3840 fits\n"
     ]
    },
    {
     "name": "stderr",
     "output_type": "stream",
     "text": [
      "[Parallel(n_jobs=16)]: Using backend LokyBackend with 16 concurrent workers.\n",
      "[Parallel(n_jobs=16)]: Done  18 tasks      | elapsed:  1.0min\n",
      "[Parallel(n_jobs=16)]: Done 168 tasks      | elapsed:  5.1min\n",
      "[Parallel(n_jobs=16)]: Done 418 tasks      | elapsed: 12.8min\n",
      "[Parallel(n_jobs=16)]: Done 768 tasks      | elapsed: 21.6min\n",
      "[Parallel(n_jobs=16)]: Done 1218 tasks      | elapsed: 30.8min\n",
      "[Parallel(n_jobs=16)]: Done 1768 tasks      | elapsed: 37.3min\n",
      "[Parallel(n_jobs=16)]: Done 2418 tasks      | elapsed: 43.6min\n",
      "[Parallel(n_jobs=16)]: Done 3168 tasks      | elapsed: 48.7min\n",
      "[Parallel(n_jobs=16)]: Done 3840 out of 3840 | elapsed: 52.2min finished\n"
     ]
    },
    {
     "data": {
      "text/plain": [
       "{'learning_rate': 0.1,\n",
       " 'max_depth': 6,\n",
       " 'min_samples_leaf': 1,\n",
       " 'min_samples_split': 3,\n",
       " 'n_estimators': 500}"
      ]
     },
     "execution_count": 72,
     "metadata": {},
     "output_type": "execute_result"
    }
   ],
   "source": [
    "gb = GradientBoostingRegressor()\n",
    "hyper_params_gb = [{\n",
    "    'n_estimators':[50,100,150,200,300,500],\n",
    "    'learning_rate':[0.1,0.3,0.6,0.75],\n",
    "    'min_samples_split':[2,3,4,5,6],\n",
    "    'min_samples_leaf':[1,2],\n",
    "    'max_depth':[6,8,9,10,12,15,30,50]\n",
    "    \n",
    "}]\n",
    "model_gb = GridSearchCV(estimator=gb,\n",
    "                       param_grid = hyper_params_gb,\n",
    "                       scoring ='neg_mean_squared_error',\n",
    "                       cv = 2,\n",
    "                       verbose=1,\n",
    "                       return_train_score=True,\n",
    "                       n_jobs=16)\n",
    "model_gb.fit(train_X,y)\n",
    "model_gb.best_params_"
   ]
  },
  {
   "cell_type": "code",
   "execution_count": 66,
   "metadata": {
    "ExecuteTime": {
     "end_time": "2020-07-15T09:17:11.049460Z",
     "start_time": "2020-07-15T09:16:54.717978Z"
    }
   },
   "outputs": [],
   "source": [
    "gb = GradientBoostingRegressor(learning_rate=0.1,min_samples_leaf=1,min_samples_split=3,n_estimators=220,max_depth=8)\n",
    "gb.fit(train_X,y)\n",
    "y_pred = gb.predict(test_X)\n",
    "y_pred = sc_output.inverse_transform(y_pred.reshape(-1,1)\n",
    "output['SalePrice'] = y_pred\n",
    "output.to_csv('GB',index=False)"
   ]
  },
  {
   "cell_type": "markdown",
   "metadata": {
    "ExecuteTime": {
     "end_time": "2020-07-21T14:42:58.193130Z",
     "start_time": "2020-07-21T14:42:58.177131Z"
    }
   },
   "source": [
    "This model after tuning gave us a root mean square error of 0.135 which is better than previous run. Lets tweak this model a bit more."
   ]
  },
  {
   "cell_type": "markdown",
   "metadata": {},
   "source": [
    "<h4>Tuning GradientBoostingRegressor further</h4>"
   ]
  },
  {
   "cell_type": "code",
   "execution_count": 74,
   "metadata": {
    "ExecuteTime": {
     "end_time": "2020-07-15T10:39:11.839239Z",
     "start_time": "2020-07-15T10:18:40.649154Z"
    }
   },
   "outputs": [
    {
     "name": "stdout",
     "output_type": "stream",
     "text": [
      "Fitting 2 folds for each of 240 candidates, totalling 480 fits\n"
     ]
    },
    {
     "name": "stderr",
     "output_type": "stream",
     "text": [
      "[Parallel(n_jobs=16)]: Using backend LokyBackend with 16 concurrent workers.\n",
      "[Parallel(n_jobs=16)]: Done  18 tasks      | elapsed:  1.1min\n",
      "[Parallel(n_jobs=16)]: Done 168 tasks      | elapsed:  6.7min\n",
      "[Parallel(n_jobs=16)]: Done 418 tasks      | elapsed: 18.7min\n",
      "[Parallel(n_jobs=16)]: Done 480 out of 480 | elapsed: 20.2min finished\n"
     ]
    },
    {
     "data": {
      "text/plain": [
       "{'learning_rate': 0.1,\n",
       " 'max_depth': 3,\n",
       " 'min_samples_split': 2,\n",
       " 'n_estimators': 600}"
      ]
     },
     "execution_count": 74,
     "metadata": {},
     "output_type": "execute_result"
    }
   ],
   "source": [
    "gb = GradientBoostingRegressor()\n",
    "hyper_params_gb = [{\n",
    "    'n_estimators':[300,400,500,600,700,800],\n",
    "    'learning_rate':[0.1],\n",
    "    'min_samples_split':[2,3,4,5,6],\n",
    "    'max_depth':[3,4,5,6,7,8,9,10]\n",
    "    \n",
    "}]\n",
    "model_gb = GridSearchCV(estimator=gb,\n",
    "                       param_grid = hyper_params_gb,\n",
    "                       scoring ='neg_mean_squared_error',\n",
    "                       cv = 2,\n",
    "                       verbose=1,\n",
    "                       return_train_score=True,\n",
    "                       n_jobs=16)\n",
    "model_gb.fit(train_X,y)\n",
    "model_gb.best_params_"
   ]
  },
  {
   "cell_type": "code",
   "execution_count": 75,
   "metadata": {
    "ExecuteTime": {
     "end_time": "2020-07-15T10:40:06.073077Z",
     "start_time": "2020-07-15T10:39:48.910005Z"
    }
   },
   "outputs": [],
   "source": [
    "gb = GradientBoostingRegressor(learning_rate=0.1,min_samples_leaf=1,min_samples_split=2,n_estimators=600,max_depth=3)\n",
    "gb.fit(train_X,y)\n",
    "y_pred = gb.predict(test_X)\n",
    "y_pred = sc_output.inverse_transform(y_pred.reshape(-1,1))\n",
    "output['SalePrice'] = y_pred\n",
    "output.to_csv('GB',index=False)"
   ]
  },
  {
   "cell_type": "markdown",
   "metadata": {},
   "source": [
    "This model after tuning gave us a root mean square error of 0.132 which is bit closer than previous model."
   ]
  },
  {
   "cell_type": "markdown",
   "metadata": {
    "ExecuteTime": {
     "end_time": "2020-07-21T14:46:02.708459Z",
     "start_time": "2020-07-21T14:46:02.692460Z"
    }
   },
   "source": [
    "<h3>6. Stacking and Blending </h3>\n",
    "<br>\n",
    "Let's try stacking and blending which could help to improve the results. Here we are stacking GradientBoostingRegressor,RandomForestRegressor and passing its result to GradientBoostingRegressor"
   ]
  },
  {
   "cell_type": "code",
   "execution_count": 42,
   "metadata": {
    "ExecuteTime": {
     "end_time": "2020-07-21T14:50:21.758283Z",
     "start_time": "2020-07-21T14:50:21.742279Z"
    }
   },
   "outputs": [],
   "source": [
    "estimators = [('Gradient Boost',GradientBoostingRegressor(learning_rate=0.1,min_samples_leaf=1,min_samples_split=2,n_estimators=600,max_depth=3)),\n",
    "              ('RandomForest',RandomForestRegressor(max_depth=50,min_samples_split=2,n_estimators=200)),\n",
    "             ]"
   ]
  },
  {
   "cell_type": "code",
   "execution_count": 43,
   "metadata": {
    "ExecuteTime": {
     "end_time": "2020-07-21T14:50:23.590321Z",
     "start_time": "2020-07-21T14:50:23.574323Z"
    }
   },
   "outputs": [],
   "source": [
    "reg = StackingRegressor(\n",
    "      estimators=estimators,\n",
    "      final_estimator=GradientBoostingRegressor())"
   ]
  },
  {
   "cell_type": "code",
   "execution_count": 44,
   "metadata": {
    "ExecuteTime": {
     "end_time": "2020-07-21T14:53:48.970346Z",
     "start_time": "2020-07-21T14:50:26.302385Z"
    }
   },
   "outputs": [
    {
     "data": {
      "text/plain": [
       "StackingRegressor(cv=None,\n",
       "                  estimators=[('Gradient Boost',\n",
       "                               GradientBoostingRegressor(alpha=0.9,\n",
       "                                                         ccp_alpha=0.0,\n",
       "                                                         criterion='friedman_mse',\n",
       "                                                         init=None,\n",
       "                                                         learning_rate=0.1,\n",
       "                                                         loss='ls', max_depth=3,\n",
       "                                                         max_features=None,\n",
       "                                                         max_leaf_nodes=None,\n",
       "                                                         min_impurity_decrease=0.0,\n",
       "                                                         min_impurity_split=None,\n",
       "                                                         min_samples_leaf=1,\n",
       "                                                         min_samples_split=2,\n",
       "                                                         min_weight_fraction_leaf=0.0,\n",
       "                                                         n_estimators=6...\n",
       "                                                            max_features=None,\n",
       "                                                            max_leaf_nodes=None,\n",
       "                                                            min_impurity_decrease=0.0,\n",
       "                                                            min_impurity_split=None,\n",
       "                                                            min_samples_leaf=1,\n",
       "                                                            min_samples_split=2,\n",
       "                                                            min_weight_fraction_leaf=0.0,\n",
       "                                                            n_estimators=100,\n",
       "                                                            n_iter_no_change=None,\n",
       "                                                            presort='deprecated',\n",
       "                                                            random_state=None,\n",
       "                                                            subsample=1.0,\n",
       "                                                            tol=0.0001,\n",
       "                                                            validation_fraction=0.1,\n",
       "                                                            verbose=0,\n",
       "                                                            warm_start=False),\n",
       "                  n_jobs=None, passthrough=False, verbose=0)"
      ]
     },
     "execution_count": 44,
     "metadata": {},
     "output_type": "execute_result"
    }
   ],
   "source": [
    "reg.fit(train_X,y)"
   ]
  },
  {
   "cell_type": "code",
   "execution_count": null,
   "metadata": {
    "ExecuteTime": {
     "end_time": "2020-07-15T14:34:39.981083Z",
     "start_time": "2020-07-15T14:34:39.341158Z"
    }
   },
   "outputs": [],
   "source": [
    "y_pred = reg.predict(test_X)\n",
    "y_pred = sc_output.inverse_transform(y_pred.reshape(-1,1))\n",
    "output['SalePrice'] = y_pred\n",
    "output.to_csv('COMB',index=False)"
   ]
  },
  {
   "cell_type": "markdown",
   "metadata": {
    "ExecuteTime": {
     "end_time": "2020-07-15T14:35:56.572463Z",
     "start_time": "2020-07-15T14:35:56.532458Z"
    }
   },
   "source": [
    "This stacking model gave us root mean square as 0.132 which is pretty good"
   ]
  },
  {
   "cell_type": "markdown",
   "metadata": {},
   "source": [
    "<h3>Blending</h3>\n",
    "When we mix the result of different models,which are performing good, with good weightage we could get a pretty good result.   "
   ]
  },
  {
   "cell_type": "code",
   "execution_count": 46,
   "metadata": {
    "ExecuteTime": {
     "end_time": "2020-07-21T15:04:29.003488Z",
     "start_time": "2020-07-21T15:04:28.695981Z"
    }
   },
   "outputs": [],
   "source": [
    "rf = pd.read_csv('RF')\n",
    "gb = pd.read_csv('GB')\n",
    "comb = pd.read_csv('COMB')\n",
    "output['SalePrice'] = 0.52*comb['SalePrice']+0.32*gb['SalePrice']+0.15*rf['SalePrice']\n",
    "output.to_csv('NEW2',index=False)"
   ]
  },
  {
   "cell_type": "markdown",
   "metadata": {
    "ExecuteTime": {
     "end_time": "2020-07-15T14:59:40.016648Z",
     "start_time": "2020-07-15T14:59:39.660525Z"
    }
   },
   "source": [
    "This gives a root mean square of 0.1288 which is quite better from all the previous models. "
   ]
  },
  {
   "cell_type": "markdown",
   "metadata": {},
   "source": [
    "<h3>7. Learnings and Conclusion</h3>\n",
    "<br>\n",
    "<ol><li>You need to handle your missing data properly so that you won't mess up with data.So understanding of features is quite important</li>\n",
    "<li>As many ML models assume that the data follows Normal Distribution. So look for your Data. If data is skewed try to normalize it</li>\n",
    "<li>Outlier plays a important role for model learning.Here I have not taken care of that. This is one thing one can play and get better results</li>\n",
    "<li>If you are facing performance issues use PCA to reduce features</li>\n",
    "<li>If you want to see your feature importance, you can fit ExtraTrees to data and use features_importances_ feature of it</li>\n",
    "<li>Model Tuning, Stacking and Blending are very important techniques to imrove your model. So one can play on these, but always there is a trade off b/w accuracy and performance</li></ol>"
   ]
  },
  {
   "cell_type": "markdown",
   "metadata": {},
   "source": [
    "<h3>8. Credits & References</h3>\n",
    "<br>\n",
    "<ol><li><a href = \"https://www.kaggle.com/c/house-prices-advanced-regression-techniques\">Project Link</a></li>\n",
    "<li><a href=\"https://www.kaggle.com/jesucristo/1-house-prices-solution-top-1\">https://www.kaggle.com/jesucristo/1-house-prices-solution-top-1</a></li></ol>",
    "<h2>Thanks!!!<h2>"
   ]
  }
 ],
 "metadata": {
  "kernelspec": {
   "display_name": "Python 3",
   "language": "python",
   "name": "python3"
  },
  "language_info": {
   "codemirror_mode": {
    "name": "ipython",
    "version": 3
   },
   "file_extension": ".py",
   "mimetype": "text/x-python",
   "name": "python",
   "nbconvert_exporter": "python",
   "pygments_lexer": "ipython3",
   "version": "3.7.6"
  }
 },
 "nbformat": 4,
 "nbformat_minor": 4
}
